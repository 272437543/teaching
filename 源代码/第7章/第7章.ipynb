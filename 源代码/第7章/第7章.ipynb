{
 "cells": [
  {
   "cell_type": "markdown",
   "metadata": {},
   "source": [
    "# 第7章 时间序列数据分析"
   ]
  },
  {
   "cell_type": "markdown",
   "metadata": {},
   "source": [
    "## 7.1 时间序列基础"
   ]
  },
  {
   "cell_type": "markdown",
   "metadata": {},
   "source": [
    "### 7.1.1 创建时间序列数据"
   ]
  },
  {
   "cell_type": "code",
   "execution_count": 1,
   "metadata": {},
   "outputs": [
    {
     "data": {
      "text/plain": [
       "Timestamp('2018-08-28 00:00:00')"
      ]
     },
     "execution_count": 1,
     "metadata": {},
     "output_type": "execute_result"
    }
   ],
   "source": [
    "import pandas as pd\n",
    "from datetime import datetime\n",
    "import numpy as np\n",
    "pd.to_datetime('20180828')   # 将datetime转换为Timestamp对象"
   ]
  },
  {
   "cell_type": "code",
   "execution_count": 2,
   "metadata": {},
   "outputs": [
    {
     "data": {
      "text/plain": [
       "DatetimeIndex(['2018-08-20', '2018-08-28', '2018-09-08'], dtype='datetime64[ns]', freq=None)"
      ]
     },
     "execution_count": 2,
     "metadata": {},
     "output_type": "execute_result"
    }
   ],
   "source": [
    "# 传入多个datetime字符串\n",
    "date_index = pd.to_datetime(['20180820', '20180828', '20180908'])\n",
    "date_index"
   ]
  },
  {
   "cell_type": "code",
   "execution_count": 3,
   "metadata": {},
   "outputs": [
    {
     "data": {
      "text/plain": [
       "Timestamp('2018-08-20 00:00:00')"
      ]
     },
     "execution_count": 3,
     "metadata": {},
     "output_type": "execute_result"
    }
   ],
   "source": [
    "date_index[0]   # 取出第一个时间戳"
   ]
  },
  {
   "cell_type": "code",
   "execution_count": 4,
   "metadata": {},
   "outputs": [
    {
     "data": {
      "text/plain": [
       "2018-08-20    11\n",
       "2018-08-28    22\n",
       "2018-09-08    33\n",
       "dtype: int64"
      ]
     },
     "execution_count": 4,
     "metadata": {},
     "output_type": "execute_result"
    }
   ],
   "source": [
    "# 创建时间序列类型的Series对象\n",
    "date_ser = pd.Series([11, 22, 33], index=date_index)\n",
    "date_ser"
   ]
  },
  {
   "cell_type": "code",
   "execution_count": 5,
   "metadata": {},
   "outputs": [
    {
     "data": {
      "text/plain": [
       "2018-01-01    0\n",
       "2018-01-15    1\n",
       "2018-02-20    2\n",
       "2018-04-01    3\n",
       "2018-05-05    4\n",
       "2018-06-01    5\n",
       "dtype: int32"
      ]
     },
     "execution_count": 5,
     "metadata": {},
     "output_type": "execute_result"
    }
   ],
   "source": [
    "# 指定索引为多个datetime的列表\n",
    "date_list = [datetime(2018, 1, 1), datetime(2018, 1, 15),\n",
    "             datetime(2018, 2, 20), datetime(2018, 4, 1),\n",
    "             datetime(2018, 5, 5), datetime(2018, 6, 1)]\n",
    "time_se = pd.Series(np.arange(6), index=date_list)\n",
    "time_se"
   ]
  },
  {
   "cell_type": "code",
   "execution_count": 6,
   "metadata": {},
   "outputs": [
    {
     "data": {
      "text/html": [
       "<div>\n",
       "<style scoped>\n",
       "    .dataframe tbody tr th:only-of-type {\n",
       "        vertical-align: middle;\n",
       "    }\n",
       "\n",
       "    .dataframe tbody tr th {\n",
       "        vertical-align: top;\n",
       "    }\n",
       "\n",
       "    .dataframe thead th {\n",
       "        text-align: right;\n",
       "    }\n",
       "</style>\n",
       "<table border=\"1\" class=\"dataframe\">\n",
       "  <thead>\n",
       "    <tr style=\"text-align: right;\">\n",
       "      <th></th>\n",
       "      <th>0</th>\n",
       "      <th>1</th>\n",
       "      <th>2</th>\n",
       "    </tr>\n",
       "  </thead>\n",
       "  <tbody>\n",
       "    <tr>\n",
       "      <th>2018-01-23</th>\n",
       "      <td>11</td>\n",
       "      <td>22</td>\n",
       "      <td>33</td>\n",
       "    </tr>\n",
       "    <tr>\n",
       "      <th>2018-02-15</th>\n",
       "      <td>44</td>\n",
       "      <td>55</td>\n",
       "      <td>66</td>\n",
       "    </tr>\n",
       "    <tr>\n",
       "      <th>2018-05-22</th>\n",
       "      <td>77</td>\n",
       "      <td>88</td>\n",
       "      <td>99</td>\n",
       "    </tr>\n",
       "    <tr>\n",
       "      <th>2018-03-30</th>\n",
       "      <td>12</td>\n",
       "      <td>23</td>\n",
       "      <td>34</td>\n",
       "    </tr>\n",
       "  </tbody>\n",
       "</table>\n",
       "</div>"
      ],
      "text/plain": [
       "             0   1   2\n",
       "2018-01-23  11  22  33\n",
       "2018-02-15  44  55  66\n",
       "2018-05-22  77  88  99\n",
       "2018-03-30  12  23  34"
      ]
     },
     "execution_count": 6,
     "metadata": {},
     "output_type": "execute_result"
    }
   ],
   "source": [
    "data_demo = [[11, 22, 33], [44, 55, 66], \n",
    "             [77, 88, 99], [12, 23, 34]]\n",
    "date_list = [datetime(2018, 1, 23), datetime(2018, 2, 15),\n",
    "             datetime(2018, 5, 22), datetime(2018, 3, 30)]\n",
    "time_df = pd.DataFrame(data_demo, index=date_list)\n",
    "time_df"
   ]
  },
  {
   "cell_type": "markdown",
   "metadata": {},
   "source": [
    "### 7.1.2 通过时间戳索引选取子集"
   ]
  },
  {
   "cell_type": "code",
   "execution_count": 7,
   "metadata": {
    "scrolled": true
   },
   "outputs": [
    {
     "data": {
      "text/plain": [
       "2015-05-30    0\n",
       "2017-02-01    1\n",
       "2015-06-01    2\n",
       "2016-04-01    3\n",
       "2017-06-01    4\n",
       "2018-01-23    5\n",
       "dtype: int32"
      ]
     },
     "execution_count": 7,
     "metadata": {},
     "output_type": "execute_result"
    }
   ],
   "source": [
    "# 指定索引为多个日期字符串的列表\n",
    "date_list = ['2015/05/30', '2017/02/01',\n",
    "             '2015.6.1', '2016.4.1',\n",
    "             '2017.6.1', '2018.1.23']\n",
    "# 将日期字符串转换为DatetimeIndex \n",
    "date_index = pd.to_datetime(date_list)\n",
    "# 创建以DatetimeIndex 为索引的Series对象\n",
    "date_se = pd.Series(np.arange(6), index=date_index)\n",
    "date_se"
   ]
  },
  {
   "cell_type": "code",
   "execution_count": 8,
   "metadata": {},
   "outputs": [
    {
     "data": {
      "text/plain": [
       "3"
      ]
     },
     "execution_count": 8,
     "metadata": {},
     "output_type": "execute_result"
    }
   ],
   "source": [
    "# 根据位置索引获取数据\n",
    "time_se[3]"
   ]
  },
  {
   "cell_type": "code",
   "execution_count": 9,
   "metadata": {},
   "outputs": [
    {
     "data": {
      "text/plain": [
       "2"
      ]
     },
     "execution_count": 9,
     "metadata": {},
     "output_type": "execute_result"
    }
   ],
   "source": [
    "date_time = datetime(2015, 6, 1)\n",
    "date_se[date_time]"
   ]
  },
  {
   "cell_type": "code",
   "execution_count": 10,
   "metadata": {},
   "outputs": [
    {
     "data": {
      "text/plain": [
       "2015-05-30    0\n",
       "dtype: int32"
      ]
     },
     "execution_count": 10,
     "metadata": {},
     "output_type": "execute_result"
    }
   ],
   "source": [
    "date_se['20150530']"
   ]
  },
  {
   "cell_type": "code",
   "execution_count": 11,
   "metadata": {},
   "outputs": [
    {
     "data": {
      "text/plain": [
       "2016-04-01    3\n",
       "dtype: int32"
      ]
     },
     "execution_count": 11,
     "metadata": {},
     "output_type": "execute_result"
    }
   ],
   "source": [
    "date_se['2016-04-01']"
   ]
  },
  {
   "cell_type": "code",
   "execution_count": 12,
   "metadata": {},
   "outputs": [
    {
     "data": {
      "text/plain": [
       "2018-01-23    5\n",
       "dtype: int32"
      ]
     },
     "execution_count": 12,
     "metadata": {},
     "output_type": "execute_result"
    }
   ],
   "source": [
    "date_se['2018/01/23']"
   ]
  },
  {
   "cell_type": "code",
   "execution_count": 13,
   "metadata": {
    "scrolled": true
   },
   "outputs": [
    {
     "data": {
      "text/plain": [
       "2017-06-01    4\n",
       "dtype: int32"
      ]
     },
     "execution_count": 13,
     "metadata": {},
     "output_type": "execute_result"
    }
   ],
   "source": [
    "date_se['6/1/2017']"
   ]
  },
  {
   "cell_type": "code",
   "execution_count": 14,
   "metadata": {},
   "outputs": [
    {
     "data": {
      "text/plain": [
       "2015-05-30    0\n",
       "2015-06-01    2\n",
       "dtype: int32"
      ]
     },
     "execution_count": 14,
     "metadata": {},
     "output_type": "execute_result"
    }
   ],
   "source": [
    "date_se['2015']  # 获取2015年的数据"
   ]
  },
  {
   "cell_type": "code",
   "execution_count": 15,
   "metadata": {},
   "outputs": [
    {
     "data": {
      "text/plain": [
       "2016-04-01    3\n",
       "2017-02-01    1\n",
       "2017-06-01    4\n",
       "2018-01-23    5\n",
       "dtype: int32"
      ]
     },
     "execution_count": 15,
     "metadata": {},
     "output_type": "execute_result"
    }
   ],
   "source": [
    "# 扔掉2016-1-1之前的数据\n",
    "sorted_se = date_se.sort_index()\n",
    "sorted_se.truncate(before='2016-1-1')"
   ]
  },
  {
   "cell_type": "code",
   "execution_count": 16,
   "metadata": {},
   "outputs": [
    {
     "data": {
      "text/plain": [
       "2015-05-30    0\n",
       "2015-06-01    2\n",
       "2016-04-01    3\n",
       "dtype: int32"
      ]
     },
     "execution_count": 16,
     "metadata": {},
     "output_type": "execute_result"
    }
   ],
   "source": [
    "# 扔掉2016-7-31之后的数据\n",
    "sorted_se.truncate(after='2016-7-31')"
   ]
  },
  {
   "cell_type": "markdown",
   "metadata": {},
   "source": [
    "## 7.2 固定频率的时间序列"
   ]
  },
  {
   "cell_type": "markdown",
   "metadata": {},
   "source": [
    "### 7.2.1 创建固定频率的时间序列"
   ]
  },
  {
   "cell_type": "code",
   "execution_count": 17,
   "metadata": {},
   "outputs": [
    {
     "data": {
      "text/plain": [
       "DatetimeIndex(['2018-08-10', '2018-08-11', '2018-08-12', '2018-08-13',\n",
       "               '2018-08-14', '2018-08-15', '2018-08-16', '2018-08-17',\n",
       "               '2018-08-18', '2018-08-19', '2018-08-20'],\n",
       "              dtype='datetime64[ns]', freq='D')"
      ]
     },
     "execution_count": 17,
     "metadata": {},
     "output_type": "execute_result"
    }
   ],
   "source": [
    "# 创建DatetimeIndex对象时，只传入开始日期与结束日期\n",
    "pd.date_range('2018/08/10', '2018/08/20')"
   ]
  },
  {
   "cell_type": "code",
   "execution_count": 18,
   "metadata": {},
   "outputs": [
    {
     "data": {
      "text/plain": [
       "DatetimeIndex(['2018-08-10', '2018-08-11', '2018-08-12', '2018-08-13',\n",
       "               '2018-08-14'],\n",
       "              dtype='datetime64[ns]', freq='D')"
      ]
     },
     "execution_count": 18,
     "metadata": {},
     "output_type": "execute_result"
    }
   ],
   "source": [
    "# 创建DatetimeIndex对象时，传入start与periods参数\n",
    "pd.date_range(start='2018/08/10', periods=5)"
   ]
  },
  {
   "cell_type": "code",
   "execution_count": 19,
   "metadata": {},
   "outputs": [
    {
     "data": {
      "text/plain": [
       "DatetimeIndex(['2018-08-06', '2018-08-07', '2018-08-08', '2018-08-09',\n",
       "               '2018-08-10'],\n",
       "              dtype='datetime64[ns]', freq='D')"
      ]
     },
     "execution_count": 19,
     "metadata": {},
     "output_type": "execute_result"
    }
   ],
   "source": [
    "# 创建DatetimeIndex对象时，传入end与periods参数\n",
    "pd.date_range(end='2018/08/10', periods=5)"
   ]
  },
  {
   "cell_type": "code",
   "execution_count": 20,
   "metadata": {},
   "outputs": [
    {
     "data": {
      "text/plain": [
       "DatetimeIndex(['2018-01-07', '2018-01-14', '2018-01-21', '2018-01-28',\n",
       "               '2018-02-04'],\n",
       "              dtype='datetime64[ns]', freq='W-SUN')"
      ]
     },
     "execution_count": 20,
     "metadata": {},
     "output_type": "execute_result"
    }
   ],
   "source": [
    "dates_index = pd.date_range('2018-01-01',         # 起始日期\n",
    "                            periods=5,            # 周期\n",
    "                            freq='W-SUN')         # 频率\n",
    "dates_index"
   ]
  },
  {
   "cell_type": "code",
   "execution_count": 21,
   "metadata": {},
   "outputs": [
    {
     "data": {
      "text/plain": [
       "2018-01-07    12\n",
       "2018-01-14    56\n",
       "2018-01-21    89\n",
       "2018-01-28    99\n",
       "2018-02-04    31\n",
       "Freq: W-SUN, dtype: int64"
      ]
     },
     "execution_count": 21,
     "metadata": {},
     "output_type": "execute_result"
    }
   ],
   "source": [
    "ser_data = [12, 56, 89, 99, 31]\n",
    "pd.Series(ser_data, dates_index)"
   ]
  },
  {
   "cell_type": "code",
   "execution_count": 22,
   "metadata": {},
   "outputs": [
    {
     "data": {
      "text/plain": [
       "DatetimeIndex(['2018-08-01 12:13:30+08:00', '2018-08-02 12:13:30+08:00',\n",
       "               '2018-08-03 12:13:30+08:00', '2018-08-04 12:13:30+08:00',\n",
       "               '2018-08-05 12:13:30+08:00'],\n",
       "              dtype='datetime64[ns, Asia/Hong_Kong]', freq='D')"
      ]
     },
     "execution_count": 22,
     "metadata": {},
     "output_type": "execute_result"
    }
   ],
   "source": [
    "# 创建DatetimeIndex，并指定开始日期、产生日期个数、默认的频率，以及时区\n",
    "pd.date_range(start='2018/8/1 12:13:30', periods=5, \n",
    "              tz='Asia/Hong_Kong')"
   ]
  },
  {
   "cell_type": "code",
   "execution_count": 23,
   "metadata": {},
   "outputs": [
    {
     "data": {
      "text/plain": [
       "DatetimeIndex(['2018-08-01 00:00:00+08:00', '2018-08-02 00:00:00+08:00',\n",
       "               '2018-08-03 00:00:00+08:00', '2018-08-04 00:00:00+08:00',\n",
       "               '2018-08-05 00:00:00+08:00'],\n",
       "              dtype='datetime64[ns, Asia/Hong_Kong]', freq='D')"
      ]
     },
     "execution_count": 23,
     "metadata": {},
     "output_type": "execute_result"
    }
   ],
   "source": [
    "#规范化时间戳\n",
    "pd.date_range(start='2018/8/1 12:13:30', periods=5, \n",
    "              normalize=True, tz='Asia/Hong_Kong')"
   ]
  },
  {
   "cell_type": "markdown",
   "metadata": {},
   "source": [
    "### 7.2.2 时间序列的频率、偏移量"
   ]
  },
  {
   "cell_type": "code",
   "execution_count": 24,
   "metadata": {},
   "outputs": [
    {
     "data": {
      "text/plain": [
       "DatetimeIndex(['2018-02-01', '2018-02-06', '2018-02-11', '2018-02-16',\n",
       "               '2018-02-21', '2018-02-26'],\n",
       "              dtype='datetime64[ns]', freq='5D')"
      ]
     },
     "execution_count": 24,
     "metadata": {},
     "output_type": "execute_result"
    }
   ],
   "source": [
    "pd.date_range(start='2018/2/1', end='2018/2/28', freq='5D')"
   ]
  },
  {
   "cell_type": "code",
   "execution_count": 25,
   "metadata": {},
   "outputs": [
    {
     "data": {
      "text/plain": [
       "<DateOffset: days=5, months=4>"
      ]
     },
     "execution_count": 25,
     "metadata": {},
     "output_type": "execute_result"
    }
   ],
   "source": [
    "from pandas.tseries.offsets import *\n",
    "DateOffset(months=4, days=5)"
   ]
  },
  {
   "cell_type": "code",
   "execution_count": 26,
   "metadata": {},
   "outputs": [
    {
     "data": {
      "text/plain": [
       "Timedelta('14 days 10:00:00')"
      ]
     },
     "execution_count": 26,
     "metadata": {},
     "output_type": "execute_result"
    }
   ],
   "source": [
    "Week(2) + Hour(10)"
   ]
  },
  {
   "cell_type": "code",
   "execution_count": 27,
   "metadata": {},
   "outputs": [
    {
     "data": {
      "text/plain": [
       "DatetimeIndex(['2018-03-01 00:00:00', '2018-03-15 10:00:00',\n",
       "               '2018-03-29 20:00:00'],\n",
       "              dtype='datetime64[ns]', freq='346H')"
      ]
     },
     "execution_count": 27,
     "metadata": {},
     "output_type": "execute_result"
    }
   ],
   "source": [
    "# 生成日期偏移量\n",
    "date_offset  = Week(2) + Hour(10)\n",
    "pd.date_range('2018/3/1', '2018/3/31', freq=date_offset)"
   ]
  },
  {
   "cell_type": "markdown",
   "metadata": {},
   "source": [
    "### 7.2.3 时间序列数据的移动"
   ]
  },
  {
   "cell_type": "code",
   "execution_count": 28,
   "metadata": {},
   "outputs": [
    {
     "data": {
      "text/plain": [
       "2018-01-01    1\n",
       "2018-01-02    2\n",
       "2018-01-03    3\n",
       "2018-01-04    4\n",
       "2018-01-05    5\n",
       "Freq: D, dtype: int32"
      ]
     },
     "execution_count": 28,
     "metadata": {},
     "output_type": "execute_result"
    }
   ],
   "source": [
    "date_index = pd.date_range('2018/01/01', periods=5)\n",
    "time_ser = pd.Series(np.arange(5) + 1, index=date_index)\n",
    "time_ser"
   ]
  },
  {
   "cell_type": "code",
   "execution_count": 29,
   "metadata": {},
   "outputs": [
    {
     "data": {
      "text/plain": [
       "2018-01-01    NaN\n",
       "2018-01-02    1.0\n",
       "2018-01-03    2.0\n",
       "2018-01-04    3.0\n",
       "2018-01-05    4.0\n",
       "Freq: D, dtype: float64"
      ]
     },
     "execution_count": 29,
     "metadata": {},
     "output_type": "execute_result"
    }
   ],
   "source": [
    "# 向后移动一次\n",
    "time_ser.shift(1)"
   ]
  },
  {
   "cell_type": "code",
   "execution_count": 30,
   "metadata": {},
   "outputs": [
    {
     "data": {
      "text/plain": [
       "2018-01-01    2.0\n",
       "2018-01-02    3.0\n",
       "2018-01-03    4.0\n",
       "2018-01-04    5.0\n",
       "2018-01-05    NaN\n",
       "Freq: D, dtype: float64"
      ]
     },
     "execution_count": 30,
     "metadata": {},
     "output_type": "execute_result"
    }
   ],
   "source": [
    "# 向前移动一次\n",
    "time_ser.shift(-1)"
   ]
  },
  {
   "cell_type": "markdown",
   "metadata": {},
   "source": [
    "## 7.3 时间周期及计算"
   ]
  },
  {
   "cell_type": "markdown",
   "metadata": {},
   "source": [
    "### 7.3.1 创建时期对象"
   ]
  },
  {
   "cell_type": "code",
   "execution_count": 32,
   "metadata": {},
   "outputs": [
    {
     "data": {
      "text/plain": [
       "Period('2018', 'A-DEC')"
      ]
     },
     "execution_count": 32,
     "metadata": {},
     "output_type": "execute_result"
    }
   ],
   "source": [
    "# 创建Period对象，表示从2018-01-01到2018-12-31之间的时间段\n",
    "pd.Period(2018)"
   ]
  },
  {
   "cell_type": "code",
   "execution_count": 33,
   "metadata": {},
   "outputs": [
    {
     "data": {
      "text/plain": [
       "Period('2017-06', 'M')"
      ]
     },
     "execution_count": 33,
     "metadata": {},
     "output_type": "execute_result"
    }
   ],
   "source": [
    "# 表示从2017-06-01到2017-06-30之间的整月时间\n",
    "period = pd.Period('2017/6')\n",
    "period"
   ]
  },
  {
   "cell_type": "code",
   "execution_count": 34,
   "metadata": {},
   "outputs": [
    {
     "data": {
      "text/plain": [
       "Period('2017-07', 'M')"
      ]
     },
     "execution_count": 34,
     "metadata": {},
     "output_type": "execute_result"
    }
   ],
   "source": [
    "period + 1   # Period对象加上一个整数"
   ]
  },
  {
   "cell_type": "code",
   "execution_count": 35,
   "metadata": {},
   "outputs": [
    {
     "data": {
      "text/plain": [
       "Period('2017-01', 'M')"
      ]
     },
     "execution_count": 35,
     "metadata": {},
     "output_type": "execute_result"
    }
   ],
   "source": [
    "period - 5    # Period对象减去一个整数"
   ]
  },
  {
   "cell_type": "code",
   "execution_count": 36,
   "metadata": {},
   "outputs": [
    {
     "data": {
      "text/plain": [
       "65"
      ]
     },
     "execution_count": 36,
     "metadata": {},
     "output_type": "execute_result"
    }
   ],
   "source": [
    "# 创建一个与period频率相同的时期\n",
    "other_period = pd.Period(201201, freq='M' )\n",
    "period - other_period"
   ]
  },
  {
   "cell_type": "code",
   "execution_count": 37,
   "metadata": {},
   "outputs": [
    {
     "data": {
      "text/plain": [
       "PeriodIndex(['2012-01', '2012-02', '2012-03', '2012-04', '2012-05'], dtype='period[M]', freq='M')"
      ]
     },
     "execution_count": 37,
     "metadata": {},
     "output_type": "execute_result"
    }
   ],
   "source": [
    "period_index = pd.period_range('2012.1.8', '2012.5.31', freq='M')\n",
    "period_index"
   ]
  },
  {
   "cell_type": "code",
   "execution_count": 38,
   "metadata": {},
   "outputs": [
    {
     "data": {
      "text/plain": [
       "PeriodIndex(['2010', '2011', '2012'], dtype='period[A-DEC]', freq='A-DEC')"
      ]
     },
     "execution_count": 38,
     "metadata": {},
     "output_type": "execute_result"
    }
   ],
   "source": [
    "str_list = ['2010', '2011', '2012']\n",
    "pd.PeriodIndex(str_list, freq='A-DEC')"
   ]
  },
  {
   "cell_type": "code",
   "execution_count": 39,
   "metadata": {},
   "outputs": [
    {
     "data": {
      "text/plain": [
       "2012-01    0\n",
       "2012-02    1\n",
       "2012-03    2\n",
       "2012-04    3\n",
       "2012-05    4\n",
       "Freq: M, dtype: int32"
      ]
     },
     "execution_count": 39,
     "metadata": {},
     "output_type": "execute_result"
    }
   ],
   "source": [
    "period_ser = pd.Series(np.arange(5), period_index)\n",
    "period_ser"
   ]
  },
  {
   "cell_type": "markdown",
   "metadata": {},
   "source": [
    "### 7.3.2 时期的频率转换"
   ]
  },
  {
   "cell_type": "code",
   "execution_count": 40,
   "metadata": {},
   "outputs": [
    {
     "data": {
      "text/plain": [
       "Period('2017-01', 'M')"
      ]
     },
     "execution_count": 40,
     "metadata": {},
     "output_type": "execute_result"
    }
   ],
   "source": [
    "# 创建时期对象\n",
    "period = pd.Period('2017', freq='A-DEC')\n",
    "period.asfreq('M', how='start')"
   ]
  },
  {
   "cell_type": "code",
   "execution_count": 41,
   "metadata": {},
   "outputs": [
    {
     "data": {
      "text/plain": [
       "Period('2017-12', 'M')"
      ]
     },
     "execution_count": 41,
     "metadata": {},
     "output_type": "execute_result"
    }
   ],
   "source": [
    "period.asfreq('M', how='end')"
   ]
  },
  {
   "cell_type": "markdown",
   "metadata": {},
   "source": [
    "## 7.4 重采样"
   ]
  },
  {
   "cell_type": "markdown",
   "metadata": {},
   "source": [
    "### 7.4.1 重采样方法（resample）"
   ]
  },
  {
   "cell_type": "code",
   "execution_count": 42,
   "metadata": {},
   "outputs": [
    {
     "data": {
      "text/plain": [
       "2017-07-08     0\n",
       "2017-07-09     1\n",
       "2017-07-10     2\n",
       "2017-07-11     3\n",
       "2017-07-12     4\n",
       "2017-07-13     5\n",
       "2017-07-14     6\n",
       "2017-07-15     7\n",
       "2017-07-16     8\n",
       "2017-07-17     9\n",
       "2017-07-18    10\n",
       "2017-07-19    11\n",
       "2017-07-20    12\n",
       "2017-07-21    13\n",
       "2017-07-22    14\n",
       "2017-07-23    15\n",
       "2017-07-24    16\n",
       "2017-07-25    17\n",
       "2017-07-26    18\n",
       "2017-07-27    19\n",
       "2017-07-28    20\n",
       "2017-07-29    21\n",
       "2017-07-30    22\n",
       "2017-07-31    23\n",
       "2017-08-01    24\n",
       "2017-08-02    25\n",
       "2017-08-03    26\n",
       "2017-08-04    27\n",
       "2017-08-05    28\n",
       "2017-08-06    29\n",
       "Freq: D, dtype: int32"
      ]
     },
     "execution_count": 42,
     "metadata": {},
     "output_type": "execute_result"
    }
   ],
   "source": [
    "date_index = pd.date_range('2017.7.8', periods=30)\n",
    "time_ser = pd.Series(np.arange(30), index=date_index)\n",
    "time_ser"
   ]
  },
  {
   "cell_type": "code",
   "execution_count": 43,
   "metadata": {},
   "outputs": [
    {
     "name": "stderr",
     "output_type": "stream",
     "text": [
      "C:\\ProgramData\\Anaconda3\\lib\\site-packages\\ipykernel_launcher.py:1: FutureWarning: how in .resample() is deprecated\n",
      "the new syntax is .resample(...).mean()\n",
      "  \"\"\"Entry point for launching an IPython kernel.\n"
     ]
    },
    {
     "data": {
      "text/plain": [
       "2017-07-10     1.0\n",
       "2017-07-17     6.0\n",
       "2017-07-24    13.0\n",
       "2017-07-31    20.0\n",
       "2017-08-07    26.5\n",
       "Freq: W-MON, dtype: float64"
      ]
     },
     "execution_count": 43,
     "metadata": {},
     "output_type": "execute_result"
    }
   ],
   "source": [
    "time_ser.resample('W-MON', how='mean')"
   ]
  },
  {
   "cell_type": "code",
   "execution_count": 44,
   "metadata": {},
   "outputs": [
    {
     "data": {
      "text/plain": [
       "2017-07-10     1.0\n",
       "2017-07-17     6.0\n",
       "2017-07-24    13.0\n",
       "2017-07-31    20.0\n",
       "2017-08-07    26.5\n",
       "Freq: W-MON, dtype: float64"
      ]
     },
     "execution_count": 44,
     "metadata": {},
     "output_type": "execute_result"
    }
   ],
   "source": [
    "time_ser.resample('W-MON').mean()"
   ]
  },
  {
   "cell_type": "code",
   "execution_count": 45,
   "metadata": {},
   "outputs": [
    {
     "data": {
      "text/plain": [
       "2017-07-10     0.5\n",
       "2017-07-17     5.0\n",
       "2017-07-24    12.0\n",
       "2017-07-31    19.0\n",
       "2017-08-07    26.0\n",
       "Freq: W-MON, dtype: float64"
      ]
     },
     "execution_count": 45,
     "metadata": {},
     "output_type": "execute_result"
    }
   ],
   "source": [
    "time_ser.resample('W-MON', closed='left').mean()"
   ]
  },
  {
   "cell_type": "markdown",
   "metadata": {},
   "source": [
    "### 7.4.2 降采样"
   ]
  },
  {
   "cell_type": "code",
   "execution_count": 46,
   "metadata": {},
   "outputs": [
    {
     "data": {
      "text/plain": [
       "2018-06-01    0.546797\n",
       "2018-06-02    0.207945\n",
       "2018-06-03    0.645133\n",
       "2018-06-04    0.115933\n",
       "2018-06-05    0.660877\n",
       "2018-06-06    0.436425\n",
       "2018-06-07    0.172026\n",
       "2018-06-08    0.005449\n",
       "2018-06-09    0.136590\n",
       "2018-06-10    0.138479\n",
       "2018-06-11    0.111813\n",
       "2018-06-12    0.153655\n",
       "2018-06-13    0.540258\n",
       "2018-06-14    0.657184\n",
       "2018-06-15    0.869546\n",
       "2018-06-16    0.312043\n",
       "2018-06-17    0.452566\n",
       "2018-06-18    0.609095\n",
       "2018-06-19    0.789594\n",
       "2018-06-20    0.711466\n",
       "2018-06-21    0.212001\n",
       "2018-06-22    0.783654\n",
       "2018-06-23    0.579463\n",
       "2018-06-24    0.877164\n",
       "2018-06-25    0.079092\n",
       "2018-06-26    0.139798\n",
       "2018-06-27    0.164090\n",
       "2018-06-28    0.427031\n",
       "2018-06-29    0.415344\n",
       "2018-06-30    0.698203\n",
       "Freq: D, dtype: float64"
      ]
     },
     "execution_count": 46,
     "metadata": {},
     "output_type": "execute_result"
    }
   ],
   "source": [
    "date_index = pd.date_range('2018/06/01', periods=30)\n",
    "shares_data = np.random.rand(30)\n",
    "time_ser = pd.Series(shares_data, index=date_index)\n",
    "time_ser"
   ]
  },
  {
   "cell_type": "code",
   "execution_count": 47,
   "metadata": {},
   "outputs": [
    {
     "data": {
      "text/html": [
       "<div>\n",
       "<style scoped>\n",
       "    .dataframe tbody tr th:only-of-type {\n",
       "        vertical-align: middle;\n",
       "    }\n",
       "\n",
       "    .dataframe tbody tr th {\n",
       "        vertical-align: top;\n",
       "    }\n",
       "\n",
       "    .dataframe thead th {\n",
       "        text-align: right;\n",
       "    }\n",
       "</style>\n",
       "<table border=\"1\" class=\"dataframe\">\n",
       "  <thead>\n",
       "    <tr style=\"text-align: right;\">\n",
       "      <th></th>\n",
       "      <th>open</th>\n",
       "      <th>high</th>\n",
       "      <th>low</th>\n",
       "      <th>close</th>\n",
       "    </tr>\n",
       "  </thead>\n",
       "  <tbody>\n",
       "    <tr>\n",
       "      <th>2018-06-01</th>\n",
       "      <td>0.546797</td>\n",
       "      <td>0.660877</td>\n",
       "      <td>0.115933</td>\n",
       "      <td>0.172026</td>\n",
       "    </tr>\n",
       "    <tr>\n",
       "      <th>2018-06-08</th>\n",
       "      <td>0.005449</td>\n",
       "      <td>0.657184</td>\n",
       "      <td>0.005449</td>\n",
       "      <td>0.657184</td>\n",
       "    </tr>\n",
       "    <tr>\n",
       "      <th>2018-06-15</th>\n",
       "      <td>0.869546</td>\n",
       "      <td>0.869546</td>\n",
       "      <td>0.212001</td>\n",
       "      <td>0.212001</td>\n",
       "    </tr>\n",
       "    <tr>\n",
       "      <th>2018-06-22</th>\n",
       "      <td>0.783654</td>\n",
       "      <td>0.877164</td>\n",
       "      <td>0.079092</td>\n",
       "      <td>0.427031</td>\n",
       "    </tr>\n",
       "    <tr>\n",
       "      <th>2018-06-29</th>\n",
       "      <td>0.415344</td>\n",
       "      <td>0.698203</td>\n",
       "      <td>0.415344</td>\n",
       "      <td>0.698203</td>\n",
       "    </tr>\n",
       "  </tbody>\n",
       "</table>\n",
       "</div>"
      ],
      "text/plain": [
       "                open      high       low     close\n",
       "2018-06-01  0.546797  0.660877  0.115933  0.172026\n",
       "2018-06-08  0.005449  0.657184  0.005449  0.657184\n",
       "2018-06-15  0.869546  0.869546  0.212001  0.212001\n",
       "2018-06-22  0.783654  0.877164  0.079092  0.427031\n",
       "2018-06-29  0.415344  0.698203  0.415344  0.698203"
      ]
     },
     "execution_count": 47,
     "metadata": {},
     "output_type": "execute_result"
    }
   ],
   "source": [
    "time_ser.resample('7D').ohlc()  # OHLC重采样"
   ]
  },
  {
   "cell_type": "code",
   "execution_count": 48,
   "metadata": {},
   "outputs": [
    {
     "data": {
      "text/plain": [
       "22    0.466625\n",
       "23    0.237968\n",
       "24    0.442438\n",
       "25    0.651777\n",
       "26    0.320593\n",
       "dtype: float64"
      ]
     },
     "execution_count": 48,
     "metadata": {},
     "output_type": "execute_result"
    }
   ],
   "source": [
    "# 通过groupby技术实现降采样\n",
    "time_ser.groupby(lambda x: x.week).mean()"
   ]
  },
  {
   "cell_type": "markdown",
   "metadata": {},
   "source": [
    "### 7.4.3 升采样"
   ]
  },
  {
   "cell_type": "code",
   "execution_count": 49,
   "metadata": {},
   "outputs": [
    {
     "data": {
      "text/html": [
       "<div>\n",
       "<style scoped>\n",
       "    .dataframe tbody tr th:only-of-type {\n",
       "        vertical-align: middle;\n",
       "    }\n",
       "\n",
       "    .dataframe tbody tr th {\n",
       "        vertical-align: top;\n",
       "    }\n",
       "\n",
       "    .dataframe thead th {\n",
       "        text-align: right;\n",
       "    }\n",
       "</style>\n",
       "<table border=\"1\" class=\"dataframe\">\n",
       "  <thead>\n",
       "    <tr style=\"text-align: right;\">\n",
       "      <th></th>\n",
       "      <th>A产品</th>\n",
       "      <th>B产品</th>\n",
       "      <th>C产品</th>\n",
       "    </tr>\n",
       "  </thead>\n",
       "  <tbody>\n",
       "    <tr>\n",
       "      <th>2018-06-10</th>\n",
       "      <td>101</td>\n",
       "      <td>210</td>\n",
       "      <td>150</td>\n",
       "    </tr>\n",
       "    <tr>\n",
       "      <th>2018-06-17</th>\n",
       "      <td>330</td>\n",
       "      <td>460</td>\n",
       "      <td>580</td>\n",
       "    </tr>\n",
       "  </tbody>\n",
       "</table>\n",
       "</div>"
      ],
      "text/plain": [
       "            A产品  B产品  C产品\n",
       "2018-06-10  101  210  150\n",
       "2018-06-17  330  460  580"
      ]
     },
     "execution_count": 49,
     "metadata": {},
     "output_type": "execute_result"
    }
   ],
   "source": [
    "data_demo = np.array([['101', '210', '150'], ['330', '460', '580']])\n",
    "date_index = pd.date_range('2018/06/10', periods=2, freq='W-SUN')\n",
    "time_df = pd.DataFrame(data_demo, index=date_index, \n",
    "columns=['A产品', 'B产品', 'C产品'])\n",
    "time_df"
   ]
  },
  {
   "cell_type": "code",
   "execution_count": 50,
   "metadata": {},
   "outputs": [
    {
     "data": {
      "text/html": [
       "<div>\n",
       "<style scoped>\n",
       "    .dataframe tbody tr th:only-of-type {\n",
       "        vertical-align: middle;\n",
       "    }\n",
       "\n",
       "    .dataframe tbody tr th {\n",
       "        vertical-align: top;\n",
       "    }\n",
       "\n",
       "    .dataframe thead th {\n",
       "        text-align: right;\n",
       "    }\n",
       "</style>\n",
       "<table border=\"1\" class=\"dataframe\">\n",
       "  <thead>\n",
       "    <tr style=\"text-align: right;\">\n",
       "      <th></th>\n",
       "      <th>A产品</th>\n",
       "      <th>B产品</th>\n",
       "      <th>C产品</th>\n",
       "    </tr>\n",
       "  </thead>\n",
       "  <tbody>\n",
       "    <tr>\n",
       "      <th>2018-06-10</th>\n",
       "      <td>101</td>\n",
       "      <td>210</td>\n",
       "      <td>150</td>\n",
       "    </tr>\n",
       "    <tr>\n",
       "      <th>2018-06-11</th>\n",
       "      <td>NaN</td>\n",
       "      <td>NaN</td>\n",
       "      <td>NaN</td>\n",
       "    </tr>\n",
       "    <tr>\n",
       "      <th>2018-06-12</th>\n",
       "      <td>NaN</td>\n",
       "      <td>NaN</td>\n",
       "      <td>NaN</td>\n",
       "    </tr>\n",
       "    <tr>\n",
       "      <th>2018-06-13</th>\n",
       "      <td>NaN</td>\n",
       "      <td>NaN</td>\n",
       "      <td>NaN</td>\n",
       "    </tr>\n",
       "    <tr>\n",
       "      <th>2018-06-14</th>\n",
       "      <td>NaN</td>\n",
       "      <td>NaN</td>\n",
       "      <td>NaN</td>\n",
       "    </tr>\n",
       "    <tr>\n",
       "      <th>2018-06-15</th>\n",
       "      <td>NaN</td>\n",
       "      <td>NaN</td>\n",
       "      <td>NaN</td>\n",
       "    </tr>\n",
       "    <tr>\n",
       "      <th>2018-06-16</th>\n",
       "      <td>NaN</td>\n",
       "      <td>NaN</td>\n",
       "      <td>NaN</td>\n",
       "    </tr>\n",
       "    <tr>\n",
       "      <th>2018-06-17</th>\n",
       "      <td>330</td>\n",
       "      <td>460</td>\n",
       "      <td>580</td>\n",
       "    </tr>\n",
       "  </tbody>\n",
       "</table>\n",
       "</div>"
      ],
      "text/plain": [
       "            A产品  B产品  C产品\n",
       "2018-06-10  101  210  150\n",
       "2018-06-11  NaN  NaN  NaN\n",
       "2018-06-12  NaN  NaN  NaN\n",
       "2018-06-13  NaN  NaN  NaN\n",
       "2018-06-14  NaN  NaN  NaN\n",
       "2018-06-15  NaN  NaN  NaN\n",
       "2018-06-16  NaN  NaN  NaN\n",
       "2018-06-17  330  460  580"
      ]
     },
     "execution_count": 50,
     "metadata": {},
     "output_type": "execute_result"
    }
   ],
   "source": [
    "time_df.resample('D').asfreq()"
   ]
  },
  {
   "cell_type": "code",
   "execution_count": 51,
   "metadata": {},
   "outputs": [
    {
     "data": {
      "text/html": [
       "<div>\n",
       "<style scoped>\n",
       "    .dataframe tbody tr th:only-of-type {\n",
       "        vertical-align: middle;\n",
       "    }\n",
       "\n",
       "    .dataframe tbody tr th {\n",
       "        vertical-align: top;\n",
       "    }\n",
       "\n",
       "    .dataframe thead th {\n",
       "        text-align: right;\n",
       "    }\n",
       "</style>\n",
       "<table border=\"1\" class=\"dataframe\">\n",
       "  <thead>\n",
       "    <tr style=\"text-align: right;\">\n",
       "      <th></th>\n",
       "      <th>A产品</th>\n",
       "      <th>B产品</th>\n",
       "      <th>C产品</th>\n",
       "    </tr>\n",
       "  </thead>\n",
       "  <tbody>\n",
       "    <tr>\n",
       "      <th>2018-06-10</th>\n",
       "      <td>101</td>\n",
       "      <td>210</td>\n",
       "      <td>150</td>\n",
       "    </tr>\n",
       "    <tr>\n",
       "      <th>2018-06-11</th>\n",
       "      <td>101</td>\n",
       "      <td>210</td>\n",
       "      <td>150</td>\n",
       "    </tr>\n",
       "    <tr>\n",
       "      <th>2018-06-12</th>\n",
       "      <td>101</td>\n",
       "      <td>210</td>\n",
       "      <td>150</td>\n",
       "    </tr>\n",
       "    <tr>\n",
       "      <th>2018-06-13</th>\n",
       "      <td>101</td>\n",
       "      <td>210</td>\n",
       "      <td>150</td>\n",
       "    </tr>\n",
       "    <tr>\n",
       "      <th>2018-06-14</th>\n",
       "      <td>101</td>\n",
       "      <td>210</td>\n",
       "      <td>150</td>\n",
       "    </tr>\n",
       "    <tr>\n",
       "      <th>2018-06-15</th>\n",
       "      <td>101</td>\n",
       "      <td>210</td>\n",
       "      <td>150</td>\n",
       "    </tr>\n",
       "    <tr>\n",
       "      <th>2018-06-16</th>\n",
       "      <td>101</td>\n",
       "      <td>210</td>\n",
       "      <td>150</td>\n",
       "    </tr>\n",
       "    <tr>\n",
       "      <th>2018-06-17</th>\n",
       "      <td>330</td>\n",
       "      <td>460</td>\n",
       "      <td>580</td>\n",
       "    </tr>\n",
       "  </tbody>\n",
       "</table>\n",
       "</div>"
      ],
      "text/plain": [
       "            A产品  B产品  C产品\n",
       "2018-06-10  101  210  150\n",
       "2018-06-11  101  210  150\n",
       "2018-06-12  101  210  150\n",
       "2018-06-13  101  210  150\n",
       "2018-06-14  101  210  150\n",
       "2018-06-15  101  210  150\n",
       "2018-06-16  101  210  150\n",
       "2018-06-17  330  460  580"
      ]
     },
     "execution_count": 51,
     "metadata": {},
     "output_type": "execute_result"
    }
   ],
   "source": [
    "time_df.resample('D').ffill()"
   ]
  },
  {
   "cell_type": "markdown",
   "metadata": {},
   "source": [
    "## 7.5 数据统计—滑动窗口"
   ]
  },
  {
   "cell_type": "code",
   "execution_count": 52,
   "metadata": {},
   "outputs": [
    {
     "data": {
      "text/plain": [
       "2017-01-01    0.066271\n",
       "2017-01-02   -0.015969\n",
       "2017-01-03   -0.845204\n",
       "2017-01-04    1.009256\n",
       "2017-01-05    0.613716\n",
       "Freq: D, dtype: float64"
      ]
     },
     "execution_count": 52,
     "metadata": {},
     "output_type": "execute_result"
    }
   ],
   "source": [
    "year_data = np.random.randn(365)\n",
    "date_index = pd.date_range('2017-01-01', '2017-12-31', freq='D')\n",
    "ser = pd.Series(year_data, date_index)\n",
    "ser.head()"
   ]
  },
  {
   "cell_type": "code",
   "execution_count": 53,
   "metadata": {},
   "outputs": [
    {
     "data": {
      "text/plain": [
       "Rolling [window=10,center=False,axis=0]"
      ]
     },
     "execution_count": 53,
     "metadata": {},
     "output_type": "execute_result"
    }
   ],
   "source": [
    "roll_window = ser.rolling(window=10)\n",
    "roll_window"
   ]
  },
  {
   "cell_type": "code",
   "execution_count": 54,
   "metadata": {},
   "outputs": [
    {
     "data": {
      "text/plain": [
       "2017-01-01         NaN\n",
       "2017-01-02         NaN\n",
       "2017-01-03         NaN\n",
       "2017-01-04         NaN\n",
       "2017-01-05         NaN\n",
       "2017-01-06         NaN\n",
       "2017-01-07         NaN\n",
       "2017-01-08         NaN\n",
       "2017-01-09         NaN\n",
       "2017-01-10    0.067507\n",
       "2017-01-11   -0.084070\n",
       "2017-01-12   -0.074100\n",
       "2017-01-13   -0.005691\n",
       "2017-01-14   -0.039851\n",
       "2017-01-15   -0.101113\n",
       "2017-01-16   -0.198285\n",
       "2017-01-17   -0.041308\n",
       "2017-01-18   -0.019553\n",
       "2017-01-19    0.023875\n",
       "2017-01-20   -0.123106\n",
       "2017-01-21   -0.002899\n",
       "2017-01-22   -0.064119\n",
       "2017-01-23    0.072553\n",
       "2017-01-24   -0.062451\n",
       "2017-01-25   -0.172088\n",
       "2017-01-26    0.129399\n",
       "2017-01-27   -0.057855\n",
       "2017-01-28   -0.016647\n",
       "2017-01-29   -0.065930\n",
       "2017-01-30   -0.019916\n",
       "                ...   \n",
       "2017-12-02   -0.158739\n",
       "2017-12-03   -0.139049\n",
       "2017-12-04   -0.165832\n",
       "2017-12-05   -0.156529\n",
       "2017-12-06   -0.253572\n",
       "2017-12-07   -0.363675\n",
       "2017-12-08   -0.341894\n",
       "2017-12-09   -0.319462\n",
       "2017-12-10   -0.250706\n",
       "2017-12-11   -0.223689\n",
       "2017-12-12   -0.419421\n",
       "2017-12-13   -0.360186\n",
       "2017-12-14   -0.540841\n",
       "2017-12-15   -0.403327\n",
       "2017-12-16   -0.306509\n",
       "2017-12-17   -0.161065\n",
       "2017-12-18   -0.098524\n",
       "2017-12-19   -0.094659\n",
       "2017-12-20    0.076512\n",
       "2017-12-21    0.075087\n",
       "2017-12-22    0.389097\n",
       "2017-12-23    0.370031\n",
       "2017-12-24    0.692254\n",
       "2017-12-25    0.614792\n",
       "2017-12-26    0.569258\n",
       "2017-12-27    0.634186\n",
       "2017-12-28    0.592151\n",
       "2017-12-29    0.719153\n",
       "2017-12-30    0.677216\n",
       "2017-12-31    0.965563\n",
       "Freq: D, Length: 365, dtype: float64"
      ]
     },
     "execution_count": 54,
     "metadata": {},
     "output_type": "execute_result"
    }
   ],
   "source": [
    "roll_window.mean()"
   ]
  },
  {
   "cell_type": "code",
   "execution_count": 55,
   "metadata": {
    "scrolled": true
   },
   "outputs": [
    {
     "data": {
      "text/plain": [
       "<matplotlib.axes._subplots.AxesSubplot at 0x8a14fd0>"
      ]
     },
     "execution_count": 55,
     "metadata": {},
     "output_type": "execute_result"
    },
    {
     "data": {
      "image/png": "[encoded data removed]",
      "text/plain": [
       "<Figure size 432x288 with 1 Axes>"
      ]
     },
     "metadata": {},
     "output_type": "display_data"
    }
   ],
   "source": [
    "import matplotlib.pyplot as plt\n",
    "%matplotlib inline\n",
    "ser.plot(style='y--')\n",
    "ser_window = ser.rolling(window=10).mean()\n",
    "ser_window.plot(style='b')"
   ]
  },
  {
   "cell_type": "markdown",
   "metadata": {},
   "source": [
    "## 7.7 案例—股票预测分析"
   ]
  },
  {
   "cell_type": "markdown",
   "metadata": {},
   "source": [
    "### 7.7.3\t功能实现"
   ]
  },
  {
   "cell_type": "code",
   "execution_count": 56,
   "metadata": {},
   "outputs": [],
   "source": [
    "# 导入需要使用的包\n",
    "import pandas as pd\n",
    "import datetime\n",
    "import matplotlib.pylab as plt\n",
    "# 导入统计模型ARIMA与相关函数\n",
    "from statsmodels.tsa.arima_model import ARIMA\n",
    "from statsmodels.graphics.tsaplots import plot_acf, plot_pacf\n",
    "# 解决matplotlib显示中文问题\n",
    "# 指定默认字体\n",
    "plt.rcParams['font.sans-serif'] = ['SimHei']  \n",
    "# 解决保存图像是负号'-'显示为方块的问题\n",
    "plt.rcParams['axes.unicode_minus'] = False"
   ]
  },
  {
   "cell_type": "code",
   "execution_count": 57,
   "metadata": {
    "scrolled": true
   },
   "outputs": [
    {
     "data": {
      "text/html": [
       "<div>\n",
       "<style scoped>\n",
       "    .dataframe tbody tr th:only-of-type {\n",
       "        vertical-align: middle;\n",
       "    }\n",
       "\n",
       "    .dataframe tbody tr th {\n",
       "        vertical-align: top;\n",
       "    }\n",
       "\n",
       "    .dataframe thead th {\n",
       "        text-align: right;\n",
       "    }\n",
       "</style>\n",
       "<table border=\"1\" class=\"dataframe\">\n",
       "  <thead>\n",
       "    <tr style=\"text-align: right;\">\n",
       "      <th></th>\n",
       "      <th>股票代码</th>\n",
       "      <th>交易日期</th>\n",
       "      <th>开盘价</th>\n",
       "      <th>最高价</th>\n",
       "      <th>最低价</th>\n",
       "      <th>收盘价</th>\n",
       "      <th>昨收价</th>\n",
       "      <th>涨跌额</th>\n",
       "      <th>涨跌幅</th>\n",
       "      <th>成交量（手）</th>\n",
       "      <th>成交额（千元）</th>\n",
       "    </tr>\n",
       "  </thead>\n",
       "  <tbody>\n",
       "    <tr>\n",
       "      <th>0</th>\n",
       "      <td>000858.SZ</td>\n",
       "      <td>20180920</td>\n",
       "      <td>64.40</td>\n",
       "      <td>64.85</td>\n",
       "      <td>64.03</td>\n",
       "      <td>64.39</td>\n",
       "      <td>64.44</td>\n",
       "      <td>-0.05</td>\n",
       "      <td>-0.0776</td>\n",
       "      <td>164165.71</td>\n",
       "      <td>1.056728e+06</td>\n",
       "    </tr>\n",
       "    <tr>\n",
       "      <th>1</th>\n",
       "      <td>000858.SZ</td>\n",
       "      <td>20180919</td>\n",
       "      <td>62.99</td>\n",
       "      <td>65.53</td>\n",
       "      <td>62.90</td>\n",
       "      <td>64.44</td>\n",
       "      <td>63.21</td>\n",
       "      <td>1.23</td>\n",
       "      <td>1.9459</td>\n",
       "      <td>411364.31</td>\n",
       "      <td>2.653606e+06</td>\n",
       "    </tr>\n",
       "    <tr>\n",
       "      <th>2</th>\n",
       "      <td>000858.SZ</td>\n",
       "      <td>20180918</td>\n",
       "      <td>61.62</td>\n",
       "      <td>63.60</td>\n",
       "      <td>61.01</td>\n",
       "      <td>63.21</td>\n",
       "      <td>61.86</td>\n",
       "      <td>1.35</td>\n",
       "      <td>2.1823</td>\n",
       "      <td>263861.24</td>\n",
       "      <td>1.647394e+06</td>\n",
       "    </tr>\n",
       "    <tr>\n",
       "      <th>3</th>\n",
       "      <td>000858.SZ</td>\n",
       "      <td>20180917</td>\n",
       "      <td>61.40</td>\n",
       "      <td>62.56</td>\n",
       "      <td>61.03</td>\n",
       "      <td>61.86</td>\n",
       "      <td>61.53</td>\n",
       "      <td>0.33</td>\n",
       "      <td>0.5363</td>\n",
       "      <td>235508.59</td>\n",
       "      <td>1.458776e+06</td>\n",
       "    </tr>\n",
       "    <tr>\n",
       "      <th>4</th>\n",
       "      <td>000858.SZ</td>\n",
       "      <td>20180914</td>\n",
       "      <td>60.45</td>\n",
       "      <td>62.16</td>\n",
       "      <td>59.70</td>\n",
       "      <td>61.53</td>\n",
       "      <td>59.98</td>\n",
       "      <td>1.55</td>\n",
       "      <td>2.5842</td>\n",
       "      <td>294960.29</td>\n",
       "      <td>1.800648e+06</td>\n",
       "    </tr>\n",
       "    <tr>\n",
       "      <th>5</th>\n",
       "      <td>000858.SZ</td>\n",
       "      <td>20180913</td>\n",
       "      <td>60.39</td>\n",
       "      <td>60.65</td>\n",
       "      <td>58.58</td>\n",
       "      <td>59.98</td>\n",
       "      <td>59.65</td>\n",
       "      <td>0.33</td>\n",
       "      <td>0.5532</td>\n",
       "      <td>206865.36</td>\n",
       "      <td>1.232442e+06</td>\n",
       "    </tr>\n",
       "    <tr>\n",
       "      <th>6</th>\n",
       "      <td>000858.SZ</td>\n",
       "      <td>20180912</td>\n",
       "      <td>61.00</td>\n",
       "      <td>61.00</td>\n",
       "      <td>59.59</td>\n",
       "      <td>59.65</td>\n",
       "      <td>61.00</td>\n",
       "      <td>-1.35</td>\n",
       "      <td>-2.2131</td>\n",
       "      <td>191607.79</td>\n",
       "      <td>1.150745e+06</td>\n",
       "    </tr>\n",
       "    <tr>\n",
       "      <th>7</th>\n",
       "      <td>000858.SZ</td>\n",
       "      <td>20180911</td>\n",
       "      <td>60.38</td>\n",
       "      <td>61.35</td>\n",
       "      <td>60.20</td>\n",
       "      <td>61.00</td>\n",
       "      <td>60.38</td>\n",
       "      <td>0.62</td>\n",
       "      <td>1.0268</td>\n",
       "      <td>202919.36</td>\n",
       "      <td>1.235002e+06</td>\n",
       "    </tr>\n",
       "    <tr>\n",
       "      <th>8</th>\n",
       "      <td>000858.SZ</td>\n",
       "      <td>20180910</td>\n",
       "      <td>60.92</td>\n",
       "      <td>60.96</td>\n",
       "      <td>59.28</td>\n",
       "      <td>60.38</td>\n",
       "      <td>60.77</td>\n",
       "      <td>-0.39</td>\n",
       "      <td>-0.6418</td>\n",
       "      <td>195919.16</td>\n",
       "      <td>1.179507e+06</td>\n",
       "    </tr>\n",
       "    <tr>\n",
       "      <th>9</th>\n",
       "      <td>000858.SZ</td>\n",
       "      <td>20180907</td>\n",
       "      <td>60.30</td>\n",
       "      <td>61.15</td>\n",
       "      <td>59.80</td>\n",
       "      <td>60.77</td>\n",
       "      <td>59.71</td>\n",
       "      <td>1.06</td>\n",
       "      <td>1.7752</td>\n",
       "      <td>222726.04</td>\n",
       "      <td>1.347995e+06</td>\n",
       "    </tr>\n",
       "    <tr>\n",
       "      <th>10</th>\n",
       "      <td>000858.SZ</td>\n",
       "      <td>20180906</td>\n",
       "      <td>60.50</td>\n",
       "      <td>61.64</td>\n",
       "      <td>59.18</td>\n",
       "      <td>59.71</td>\n",
       "      <td>60.90</td>\n",
       "      <td>-1.19</td>\n",
       "      <td>-1.9540</td>\n",
       "      <td>319221.95</td>\n",
       "      <td>1.924317e+06</td>\n",
       "    </tr>\n",
       "    <tr>\n",
       "      <th>11</th>\n",
       "      <td>000858.SZ</td>\n",
       "      <td>20180905</td>\n",
       "      <td>62.75</td>\n",
       "      <td>62.75</td>\n",
       "      <td>60.80</td>\n",
       "      <td>60.90</td>\n",
       "      <td>62.77</td>\n",
       "      <td>-1.87</td>\n",
       "      <td>-2.9791</td>\n",
       "      <td>217130.48</td>\n",
       "      <td>1.342663e+06</td>\n",
       "    </tr>\n",
       "    <tr>\n",
       "      <th>12</th>\n",
       "      <td>000858.SZ</td>\n",
       "      <td>20180904</td>\n",
       "      <td>62.27</td>\n",
       "      <td>62.96</td>\n",
       "      <td>61.60</td>\n",
       "      <td>62.77</td>\n",
       "      <td>61.97</td>\n",
       "      <td>0.80</td>\n",
       "      <td>1.2909</td>\n",
       "      <td>194838.65</td>\n",
       "      <td>1.215148e+06</td>\n",
       "    </tr>\n",
       "    <tr>\n",
       "      <th>13</th>\n",
       "      <td>000858.SZ</td>\n",
       "      <td>20180903</td>\n",
       "      <td>61.10</td>\n",
       "      <td>62.17</td>\n",
       "      <td>61.09</td>\n",
       "      <td>61.97</td>\n",
       "      <td>61.90</td>\n",
       "      <td>0.07</td>\n",
       "      <td>0.1131</td>\n",
       "      <td>208324.53</td>\n",
       "      <td>1.283847e+06</td>\n",
       "    </tr>\n",
       "    <tr>\n",
       "      <th>14</th>\n",
       "      <td>000858.SZ</td>\n",
       "      <td>20180831</td>\n",
       "      <td>62.99</td>\n",
       "      <td>62.99</td>\n",
       "      <td>61.63</td>\n",
       "      <td>61.90</td>\n",
       "      <td>63.40</td>\n",
       "      <td>-1.50</td>\n",
       "      <td>-2.3659</td>\n",
       "      <td>244560.55</td>\n",
       "      <td>1.517434e+06</td>\n",
       "    </tr>\n",
       "    <tr>\n",
       "      <th>15</th>\n",
       "      <td>000858.SZ</td>\n",
       "      <td>20180830</td>\n",
       "      <td>63.70</td>\n",
       "      <td>64.50</td>\n",
       "      <td>63.12</td>\n",
       "      <td>63.40</td>\n",
       "      <td>63.68</td>\n",
       "      <td>-0.28</td>\n",
       "      <td>-0.4397</td>\n",
       "      <td>189692.37</td>\n",
       "      <td>1.209291e+06</td>\n",
       "    </tr>\n",
       "    <tr>\n",
       "      <th>16</th>\n",
       "      <td>000858.SZ</td>\n",
       "      <td>20180829</td>\n",
       "      <td>64.29</td>\n",
       "      <td>64.51</td>\n",
       "      <td>63.34</td>\n",
       "      <td>63.68</td>\n",
       "      <td>64.30</td>\n",
       "      <td>-0.62</td>\n",
       "      <td>-0.9642</td>\n",
       "      <td>242285.64</td>\n",
       "      <td>1.543979e+06</td>\n",
       "    </tr>\n",
       "    <tr>\n",
       "      <th>17</th>\n",
       "      <td>000858.SZ</td>\n",
       "      <td>20180828</td>\n",
       "      <td>66.03</td>\n",
       "      <td>66.18</td>\n",
       "      <td>63.97</td>\n",
       "      <td>64.30</td>\n",
       "      <td>65.31</td>\n",
       "      <td>-1.01</td>\n",
       "      <td>-1.5465</td>\n",
       "      <td>390976.78</td>\n",
       "      <td>2.527106e+06</td>\n",
       "    </tr>\n",
       "    <tr>\n",
       "      <th>18</th>\n",
       "      <td>000858.SZ</td>\n",
       "      <td>20180827</td>\n",
       "      <td>63.10</td>\n",
       "      <td>65.31</td>\n",
       "      <td>63.10</td>\n",
       "      <td>65.31</td>\n",
       "      <td>62.96</td>\n",
       "      <td>2.35</td>\n",
       "      <td>3.7325</td>\n",
       "      <td>340401.26</td>\n",
       "      <td>2.198875e+06</td>\n",
       "    </tr>\n",
       "    <tr>\n",
       "      <th>19</th>\n",
       "      <td>000858.SZ</td>\n",
       "      <td>20180824</td>\n",
       "      <td>63.90</td>\n",
       "      <td>63.90</td>\n",
       "      <td>62.50</td>\n",
       "      <td>62.96</td>\n",
       "      <td>64.15</td>\n",
       "      <td>-1.19</td>\n",
       "      <td>-1.8550</td>\n",
       "      <td>184769.28</td>\n",
       "      <td>1.163742e+06</td>\n",
       "    </tr>\n",
       "    <tr>\n",
       "      <th>20</th>\n",
       "      <td>000858.SZ</td>\n",
       "      <td>20180823</td>\n",
       "      <td>63.98</td>\n",
       "      <td>64.83</td>\n",
       "      <td>63.18</td>\n",
       "      <td>64.15</td>\n",
       "      <td>63.69</td>\n",
       "      <td>0.46</td>\n",
       "      <td>0.7222</td>\n",
       "      <td>178918.10</td>\n",
       "      <td>1.147044e+06</td>\n",
       "    </tr>\n",
       "    <tr>\n",
       "      <th>21</th>\n",
       "      <td>000858.SZ</td>\n",
       "      <td>20180822</td>\n",
       "      <td>63.99</td>\n",
       "      <td>64.37</td>\n",
       "      <td>63.28</td>\n",
       "      <td>63.69</td>\n",
       "      <td>64.33</td>\n",
       "      <td>-0.64</td>\n",
       "      <td>-0.9949</td>\n",
       "      <td>147732.68</td>\n",
       "      <td>9.425367e+05</td>\n",
       "    </tr>\n",
       "    <tr>\n",
       "      <th>22</th>\n",
       "      <td>000858.SZ</td>\n",
       "      <td>20180821</td>\n",
       "      <td>62.05</td>\n",
       "      <td>64.66</td>\n",
       "      <td>61.90</td>\n",
       "      <td>64.33</td>\n",
       "      <td>62.03</td>\n",
       "      <td>2.30</td>\n",
       "      <td>3.7079</td>\n",
       "      <td>355392.12</td>\n",
       "      <td>2.262788e+06</td>\n",
       "    </tr>\n",
       "    <tr>\n",
       "      <th>23</th>\n",
       "      <td>000858.SZ</td>\n",
       "      <td>20180820</td>\n",
       "      <td>60.99</td>\n",
       "      <td>62.15</td>\n",
       "      <td>59.58</td>\n",
       "      <td>62.03</td>\n",
       "      <td>60.61</td>\n",
       "      <td>1.42</td>\n",
       "      <td>2.3428</td>\n",
       "      <td>291249.79</td>\n",
       "      <td>1.771847e+06</td>\n",
       "    </tr>\n",
       "    <tr>\n",
       "      <th>24</th>\n",
       "      <td>000858.SZ</td>\n",
       "      <td>20180817</td>\n",
       "      <td>61.85</td>\n",
       "      <td>62.30</td>\n",
       "      <td>60.30</td>\n",
       "      <td>60.61</td>\n",
       "      <td>61.15</td>\n",
       "      <td>-0.54</td>\n",
       "      <td>-0.8831</td>\n",
       "      <td>259935.42</td>\n",
       "      <td>1.592610e+06</td>\n",
       "    </tr>\n",
       "    <tr>\n",
       "      <th>25</th>\n",
       "      <td>000858.SZ</td>\n",
       "      <td>20180816</td>\n",
       "      <td>62.33</td>\n",
       "      <td>63.41</td>\n",
       "      <td>61.14</td>\n",
       "      <td>61.15</td>\n",
       "      <td>63.33</td>\n",
       "      <td>-2.18</td>\n",
       "      <td>-3.4423</td>\n",
       "      <td>308055.73</td>\n",
       "      <td>1.913090e+06</td>\n",
       "    </tr>\n",
       "    <tr>\n",
       "      <th>26</th>\n",
       "      <td>000858.SZ</td>\n",
       "      <td>20180815</td>\n",
       "      <td>65.11</td>\n",
       "      <td>65.11</td>\n",
       "      <td>63.28</td>\n",
       "      <td>63.33</td>\n",
       "      <td>65.10</td>\n",
       "      <td>-1.77</td>\n",
       "      <td>-2.7189</td>\n",
       "      <td>207112.86</td>\n",
       "      <td>1.320143e+06</td>\n",
       "    </tr>\n",
       "    <tr>\n",
       "      <th>27</th>\n",
       "      <td>000858.SZ</td>\n",
       "      <td>20180814</td>\n",
       "      <td>64.99</td>\n",
       "      <td>65.92</td>\n",
       "      <td>64.11</td>\n",
       "      <td>65.10</td>\n",
       "      <td>64.41</td>\n",
       "      <td>0.69</td>\n",
       "      <td>1.0713</td>\n",
       "      <td>294337.38</td>\n",
       "      <td>1.910065e+06</td>\n",
       "    </tr>\n",
       "    <tr>\n",
       "      <th>28</th>\n",
       "      <td>000858.SZ</td>\n",
       "      <td>20180813</td>\n",
       "      <td>65.25</td>\n",
       "      <td>65.25</td>\n",
       "      <td>63.10</td>\n",
       "      <td>64.41</td>\n",
       "      <td>66.05</td>\n",
       "      <td>-1.64</td>\n",
       "      <td>-2.4830</td>\n",
       "      <td>365521.37</td>\n",
       "      <td>2.343184e+06</td>\n",
       "    </tr>\n",
       "    <tr>\n",
       "      <th>29</th>\n",
       "      <td>000858.SZ</td>\n",
       "      <td>20180810</td>\n",
       "      <td>66.26</td>\n",
       "      <td>67.19</td>\n",
       "      <td>65.34</td>\n",
       "      <td>66.05</td>\n",
       "      <td>66.36</td>\n",
       "      <td>-0.31</td>\n",
       "      <td>-0.4671</td>\n",
       "      <td>212833.69</td>\n",
       "      <td>1.409831e+06</td>\n",
       "    </tr>\n",
       "    <tr>\n",
       "      <th>...</th>\n",
       "      <td>...</td>\n",
       "      <td>...</td>\n",
       "      <td>...</td>\n",
       "      <td>...</td>\n",
       "      <td>...</td>\n",
       "      <td>...</td>\n",
       "      <td>...</td>\n",
       "      <td>...</td>\n",
       "      <td>...</td>\n",
       "      <td>...</td>\n",
       "      <td>...</td>\n",
       "    </tr>\n",
       "    <tr>\n",
       "      <th>3791</th>\n",
       "      <td>000858.SZ</td>\n",
       "      <td>20030221</td>\n",
       "      <td>12.11</td>\n",
       "      <td>12.11</td>\n",
       "      <td>11.81</td>\n",
       "      <td>11.83</td>\n",
       "      <td>12.09</td>\n",
       "      <td>-0.26</td>\n",
       "      <td>-2.1500</td>\n",
       "      <td>10566.07</td>\n",
       "      <td>1.259167e+04</td>\n",
       "    </tr>\n",
       "    <tr>\n",
       "      <th>3792</th>\n",
       "      <td>000858.SZ</td>\n",
       "      <td>20030220</td>\n",
       "      <td>12.13</td>\n",
       "      <td>12.25</td>\n",
       "      <td>12.06</td>\n",
       "      <td>12.09</td>\n",
       "      <td>12.10</td>\n",
       "      <td>-0.01</td>\n",
       "      <td>-0.0800</td>\n",
       "      <td>8227.71</td>\n",
       "      <td>9.994754e+03</td>\n",
       "    </tr>\n",
       "    <tr>\n",
       "      <th>3793</th>\n",
       "      <td>000858.SZ</td>\n",
       "      <td>20030219</td>\n",
       "      <td>12.00</td>\n",
       "      <td>12.12</td>\n",
       "      <td>11.95</td>\n",
       "      <td>12.10</td>\n",
       "      <td>12.00</td>\n",
       "      <td>0.10</td>\n",
       "      <td>0.8300</td>\n",
       "      <td>5254.74</td>\n",
       "      <td>6.311557e+03</td>\n",
       "    </tr>\n",
       "    <tr>\n",
       "      <th>3794</th>\n",
       "      <td>000858.SZ</td>\n",
       "      <td>20030218</td>\n",
       "      <td>12.09</td>\n",
       "      <td>12.11</td>\n",
       "      <td>11.96</td>\n",
       "      <td>12.00</td>\n",
       "      <td>12.07</td>\n",
       "      <td>-0.07</td>\n",
       "      <td>-0.5800</td>\n",
       "      <td>7045.02</td>\n",
       "      <td>8.460368e+03</td>\n",
       "    </tr>\n",
       "    <tr>\n",
       "      <th>3795</th>\n",
       "      <td>000858.SZ</td>\n",
       "      <td>20030217</td>\n",
       "      <td>12.20</td>\n",
       "      <td>12.25</td>\n",
       "      <td>12.03</td>\n",
       "      <td>12.07</td>\n",
       "      <td>12.22</td>\n",
       "      <td>-0.15</td>\n",
       "      <td>-1.2300</td>\n",
       "      <td>8003.21</td>\n",
       "      <td>9.705864e+03</td>\n",
       "    </tr>\n",
       "    <tr>\n",
       "      <th>3796</th>\n",
       "      <td>000858.SZ</td>\n",
       "      <td>20030214</td>\n",
       "      <td>12.25</td>\n",
       "      <td>12.35</td>\n",
       "      <td>12.10</td>\n",
       "      <td>12.22</td>\n",
       "      <td>12.27</td>\n",
       "      <td>-0.05</td>\n",
       "      <td>-0.4100</td>\n",
       "      <td>20132.95</td>\n",
       "      <td>2.468112e+04</td>\n",
       "    </tr>\n",
       "    <tr>\n",
       "      <th>3797</th>\n",
       "      <td>000858.SZ</td>\n",
       "      <td>20030213</td>\n",
       "      <td>12.33</td>\n",
       "      <td>12.48</td>\n",
       "      <td>12.16</td>\n",
       "      <td>12.27</td>\n",
       "      <td>12.29</td>\n",
       "      <td>-0.02</td>\n",
       "      <td>-0.1600</td>\n",
       "      <td>30253.02</td>\n",
       "      <td>3.736721e+04</td>\n",
       "    </tr>\n",
       "    <tr>\n",
       "      <th>3798</th>\n",
       "      <td>000858.SZ</td>\n",
       "      <td>20030212</td>\n",
       "      <td>12.06</td>\n",
       "      <td>12.32</td>\n",
       "      <td>11.88</td>\n",
       "      <td>12.29</td>\n",
       "      <td>12.05</td>\n",
       "      <td>0.24</td>\n",
       "      <td>1.9900</td>\n",
       "      <td>33037.22</td>\n",
       "      <td>4.022414e+04</td>\n",
       "    </tr>\n",
       "    <tr>\n",
       "      <th>3799</th>\n",
       "      <td>000858.SZ</td>\n",
       "      <td>20030211</td>\n",
       "      <td>11.98</td>\n",
       "      <td>12.08</td>\n",
       "      <td>11.91</td>\n",
       "      <td>12.05</td>\n",
       "      <td>11.98</td>\n",
       "      <td>0.07</td>\n",
       "      <td>0.5800</td>\n",
       "      <td>5186.71</td>\n",
       "      <td>6.223894e+03</td>\n",
       "    </tr>\n",
       "    <tr>\n",
       "      <th>3800</th>\n",
       "      <td>000858.SZ</td>\n",
       "      <td>20030210</td>\n",
       "      <td>12.26</td>\n",
       "      <td>12.26</td>\n",
       "      <td>11.97</td>\n",
       "      <td>11.98</td>\n",
       "      <td>12.26</td>\n",
       "      <td>-0.28</td>\n",
       "      <td>-2.2800</td>\n",
       "      <td>9506.80</td>\n",
       "      <td>1.142041e+04</td>\n",
       "    </tr>\n",
       "    <tr>\n",
       "      <th>3801</th>\n",
       "      <td>000858.SZ</td>\n",
       "      <td>20030129</td>\n",
       "      <td>12.29</td>\n",
       "      <td>12.30</td>\n",
       "      <td>12.20</td>\n",
       "      <td>12.26</td>\n",
       "      <td>12.30</td>\n",
       "      <td>-0.04</td>\n",
       "      <td>-0.3300</td>\n",
       "      <td>14489.85</td>\n",
       "      <td>1.775154e+04</td>\n",
       "    </tr>\n",
       "    <tr>\n",
       "      <th>3802</th>\n",
       "      <td>000858.SZ</td>\n",
       "      <td>20030128</td>\n",
       "      <td>12.28</td>\n",
       "      <td>12.44</td>\n",
       "      <td>12.19</td>\n",
       "      <td>12.30</td>\n",
       "      <td>12.24</td>\n",
       "      <td>0.06</td>\n",
       "      <td>0.4900</td>\n",
       "      <td>33228.64</td>\n",
       "      <td>4.097170e+04</td>\n",
       "    </tr>\n",
       "    <tr>\n",
       "      <th>3803</th>\n",
       "      <td>000858.SZ</td>\n",
       "      <td>20030127</td>\n",
       "      <td>12.10</td>\n",
       "      <td>12.33</td>\n",
       "      <td>12.03</td>\n",
       "      <td>12.24</td>\n",
       "      <td>12.13</td>\n",
       "      <td>0.11</td>\n",
       "      <td>0.9100</td>\n",
       "      <td>43647.70</td>\n",
       "      <td>5.336066e+04</td>\n",
       "    </tr>\n",
       "    <tr>\n",
       "      <th>3804</th>\n",
       "      <td>000858.SZ</td>\n",
       "      <td>20030124</td>\n",
       "      <td>12.10</td>\n",
       "      <td>12.20</td>\n",
       "      <td>11.81</td>\n",
       "      <td>12.13</td>\n",
       "      <td>12.05</td>\n",
       "      <td>0.08</td>\n",
       "      <td>0.6600</td>\n",
       "      <td>18595.01</td>\n",
       "      <td>2.237859e+04</td>\n",
       "    </tr>\n",
       "    <tr>\n",
       "      <th>3805</th>\n",
       "      <td>000858.SZ</td>\n",
       "      <td>20030123</td>\n",
       "      <td>12.06</td>\n",
       "      <td>12.29</td>\n",
       "      <td>11.90</td>\n",
       "      <td>12.05</td>\n",
       "      <td>12.09</td>\n",
       "      <td>-0.04</td>\n",
       "      <td>-0.3300</td>\n",
       "      <td>25559.98</td>\n",
       "      <td>3.096278e+04</td>\n",
       "    </tr>\n",
       "    <tr>\n",
       "      <th>3806</th>\n",
       "      <td>000858.SZ</td>\n",
       "      <td>20030122</td>\n",
       "      <td>12.15</td>\n",
       "      <td>12.15</td>\n",
       "      <td>11.99</td>\n",
       "      <td>12.09</td>\n",
       "      <td>12.10</td>\n",
       "      <td>-0.01</td>\n",
       "      <td>-0.0800</td>\n",
       "      <td>11679.34</td>\n",
       "      <td>1.405617e+04</td>\n",
       "    </tr>\n",
       "    <tr>\n",
       "      <th>3807</th>\n",
       "      <td>000858.SZ</td>\n",
       "      <td>20030121</td>\n",
       "      <td>12.04</td>\n",
       "      <td>12.48</td>\n",
       "      <td>12.04</td>\n",
       "      <td>12.10</td>\n",
       "      <td>12.00</td>\n",
       "      <td>0.10</td>\n",
       "      <td>0.8300</td>\n",
       "      <td>45348.76</td>\n",
       "      <td>5.565144e+04</td>\n",
       "    </tr>\n",
       "    <tr>\n",
       "      <th>3808</th>\n",
       "      <td>000858.SZ</td>\n",
       "      <td>20030120</td>\n",
       "      <td>12.16</td>\n",
       "      <td>12.17</td>\n",
       "      <td>11.92</td>\n",
       "      <td>12.00</td>\n",
       "      <td>12.18</td>\n",
       "      <td>-0.18</td>\n",
       "      <td>-1.4800</td>\n",
       "      <td>12945.11</td>\n",
       "      <td>1.552684e+04</td>\n",
       "    </tr>\n",
       "    <tr>\n",
       "      <th>3809</th>\n",
       "      <td>000858.SZ</td>\n",
       "      <td>20030117</td>\n",
       "      <td>12.20</td>\n",
       "      <td>12.33</td>\n",
       "      <td>12.00</td>\n",
       "      <td>12.18</td>\n",
       "      <td>12.18</td>\n",
       "      <td>0.00</td>\n",
       "      <td>0.0000</td>\n",
       "      <td>33821.31</td>\n",
       "      <td>4.131540e+04</td>\n",
       "    </tr>\n",
       "    <tr>\n",
       "      <th>3810</th>\n",
       "      <td>000858.SZ</td>\n",
       "      <td>20030116</td>\n",
       "      <td>11.90</td>\n",
       "      <td>12.32</td>\n",
       "      <td>11.90</td>\n",
       "      <td>12.18</td>\n",
       "      <td>11.97</td>\n",
       "      <td>0.21</td>\n",
       "      <td>1.7500</td>\n",
       "      <td>56323.76</td>\n",
       "      <td>6.855338e+04</td>\n",
       "    </tr>\n",
       "    <tr>\n",
       "      <th>3811</th>\n",
       "      <td>000858.SZ</td>\n",
       "      <td>20030115</td>\n",
       "      <td>12.10</td>\n",
       "      <td>12.40</td>\n",
       "      <td>11.82</td>\n",
       "      <td>11.97</td>\n",
       "      <td>12.06</td>\n",
       "      <td>-0.09</td>\n",
       "      <td>-0.7500</td>\n",
       "      <td>67301.59</td>\n",
       "      <td>8.207773e+04</td>\n",
       "    </tr>\n",
       "    <tr>\n",
       "      <th>3812</th>\n",
       "      <td>000858.SZ</td>\n",
       "      <td>20030114</td>\n",
       "      <td>11.65</td>\n",
       "      <td>12.60</td>\n",
       "      <td>11.60</td>\n",
       "      <td>12.06</td>\n",
       "      <td>11.63</td>\n",
       "      <td>0.43</td>\n",
       "      <td>3.7000</td>\n",
       "      <td>99717.45</td>\n",
       "      <td>1.206554e+05</td>\n",
       "    </tr>\n",
       "    <tr>\n",
       "      <th>3813</th>\n",
       "      <td>000858.SZ</td>\n",
       "      <td>20030113</td>\n",
       "      <td>11.50</td>\n",
       "      <td>11.70</td>\n",
       "      <td>11.49</td>\n",
       "      <td>11.63</td>\n",
       "      <td>11.50</td>\n",
       "      <td>0.13</td>\n",
       "      <td>1.1300</td>\n",
       "      <td>12314.71</td>\n",
       "      <td>1.430737e+04</td>\n",
       "    </tr>\n",
       "    <tr>\n",
       "      <th>3814</th>\n",
       "      <td>000858.SZ</td>\n",
       "      <td>20030110</td>\n",
       "      <td>11.56</td>\n",
       "      <td>11.90</td>\n",
       "      <td>11.48</td>\n",
       "      <td>11.50</td>\n",
       "      <td>11.55</td>\n",
       "      <td>-0.05</td>\n",
       "      <td>-0.4300</td>\n",
       "      <td>24919.76</td>\n",
       "      <td>2.921490e+04</td>\n",
       "    </tr>\n",
       "    <tr>\n",
       "      <th>3815</th>\n",
       "      <td>000858.SZ</td>\n",
       "      <td>20030109</td>\n",
       "      <td>11.40</td>\n",
       "      <td>11.65</td>\n",
       "      <td>11.31</td>\n",
       "      <td>11.55</td>\n",
       "      <td>11.35</td>\n",
       "      <td>0.20</td>\n",
       "      <td>1.7600</td>\n",
       "      <td>16065.15</td>\n",
       "      <td>1.852814e+04</td>\n",
       "    </tr>\n",
       "    <tr>\n",
       "      <th>3816</th>\n",
       "      <td>000858.SZ</td>\n",
       "      <td>20030108</td>\n",
       "      <td>11.12</td>\n",
       "      <td>11.37</td>\n",
       "      <td>11.10</td>\n",
       "      <td>11.35</td>\n",
       "      <td>11.12</td>\n",
       "      <td>0.23</td>\n",
       "      <td>2.0700</td>\n",
       "      <td>3722.07</td>\n",
       "      <td>4.183312e+03</td>\n",
       "    </tr>\n",
       "    <tr>\n",
       "      <th>3817</th>\n",
       "      <td>000858.SZ</td>\n",
       "      <td>20030107</td>\n",
       "      <td>11.10</td>\n",
       "      <td>11.28</td>\n",
       "      <td>11.10</td>\n",
       "      <td>11.12</td>\n",
       "      <td>11.23</td>\n",
       "      <td>-0.11</td>\n",
       "      <td>-0.9800</td>\n",
       "      <td>3861.13</td>\n",
       "      <td>4.303665e+03</td>\n",
       "    </tr>\n",
       "    <tr>\n",
       "      <th>3818</th>\n",
       "      <td>000858.SZ</td>\n",
       "      <td>20030106</td>\n",
       "      <td>11.18</td>\n",
       "      <td>11.28</td>\n",
       "      <td>11.00</td>\n",
       "      <td>11.23</td>\n",
       "      <td>11.18</td>\n",
       "      <td>0.05</td>\n",
       "      <td>0.4500</td>\n",
       "      <td>4205.45</td>\n",
       "      <td>4.692610e+03</td>\n",
       "    </tr>\n",
       "    <tr>\n",
       "      <th>3819</th>\n",
       "      <td>000858.SZ</td>\n",
       "      <td>20030103</td>\n",
       "      <td>11.14</td>\n",
       "      <td>11.30</td>\n",
       "      <td>11.11</td>\n",
       "      <td>11.18</td>\n",
       "      <td>11.15</td>\n",
       "      <td>0.03</td>\n",
       "      <td>0.2700</td>\n",
       "      <td>4821.27</td>\n",
       "      <td>5.379806e+03</td>\n",
       "    </tr>\n",
       "    <tr>\n",
       "      <th>3820</th>\n",
       "      <td>000858.SZ</td>\n",
       "      <td>20030102</td>\n",
       "      <td>11.45</td>\n",
       "      <td>11.46</td>\n",
       "      <td>11.10</td>\n",
       "      <td>11.15</td>\n",
       "      <td>11.59</td>\n",
       "      <td>-0.44</td>\n",
       "      <td>-3.8000</td>\n",
       "      <td>6501.25</td>\n",
       "      <td>7.293120e+03</td>\n",
       "    </tr>\n",
       "  </tbody>\n",
       "</table>\n",
       "<p>3821 rows × 11 columns</p>\n",
       "</div>"
      ],
      "text/plain": [
       "           股票代码      交易日期    开盘价    最高价    最低价    收盘价    昨收价   涨跌额     涨跌幅  \\\n",
       "0     000858.SZ  20180920  64.40  64.85  64.03  64.39  64.44 -0.05 -0.0776   \n",
       "1     000858.SZ  20180919  62.99  65.53  62.90  64.44  63.21  1.23  1.9459   \n",
       "2     000858.SZ  20180918  61.62  63.60  61.01  63.21  61.86  1.35  2.1823   \n",
       "3     000858.SZ  20180917  61.40  62.56  61.03  61.86  61.53  0.33  0.5363   \n",
       "4     000858.SZ  20180914  60.45  62.16  59.70  61.53  59.98  1.55  2.5842   \n",
       "5     000858.SZ  20180913  60.39  60.65  58.58  59.98  59.65  0.33  0.5532   \n",
       "6     000858.SZ  20180912  61.00  61.00  59.59  59.65  61.00 -1.35 -2.2131   \n",
       "7     000858.SZ  20180911  60.38  61.35  60.20  61.00  60.38  0.62  1.0268   \n",
       "8     000858.SZ  20180910  60.92  60.96  59.28  60.38  60.77 -0.39 -0.6418   \n",
       "9     000858.SZ  20180907  60.30  61.15  59.80  60.77  59.71  1.06  1.7752   \n",
       "10    000858.SZ  20180906  60.50  61.64  59.18  59.71  60.90 -1.19 -1.9540   \n",
       "11    000858.SZ  20180905  62.75  62.75  60.80  60.90  62.77 -1.87 -2.9791   \n",
       "12    000858.SZ  20180904  62.27  62.96  61.60  62.77  61.97  0.80  1.2909   \n",
       "13    000858.SZ  20180903  61.10  62.17  61.09  61.97  61.90  0.07  0.1131   \n",
       "14    000858.SZ  20180831  62.99  62.99  61.63  61.90  63.40 -1.50 -2.3659   \n",
       "15    000858.SZ  20180830  63.70  64.50  63.12  63.40  63.68 -0.28 -0.4397   \n",
       "16    000858.SZ  20180829  64.29  64.51  63.34  63.68  64.30 -0.62 -0.9642   \n",
       "17    000858.SZ  20180828  66.03  66.18  63.97  64.30  65.31 -1.01 -1.5465   \n",
       "18    000858.SZ  20180827  63.10  65.31  63.10  65.31  62.96  2.35  3.7325   \n",
       "19    000858.SZ  20180824  63.90  63.90  62.50  62.96  64.15 -1.19 -1.8550   \n",
       "20    000858.SZ  20180823  63.98  64.83  63.18  64.15  63.69  0.46  0.7222   \n",
       "21    000858.SZ  20180822  63.99  64.37  63.28  63.69  64.33 -0.64 -0.9949   \n",
       "22    000858.SZ  20180821  62.05  64.66  61.90  64.33  62.03  2.30  3.7079   \n",
       "23    000858.SZ  20180820  60.99  62.15  59.58  62.03  60.61  1.42  2.3428   \n",
       "24    000858.SZ  20180817  61.85  62.30  60.30  60.61  61.15 -0.54 -0.8831   \n",
       "25    000858.SZ  20180816  62.33  63.41  61.14  61.15  63.33 -2.18 -3.4423   \n",
       "26    000858.SZ  20180815  65.11  65.11  63.28  63.33  65.10 -1.77 -2.7189   \n",
       "27    000858.SZ  20180814  64.99  65.92  64.11  65.10  64.41  0.69  1.0713   \n",
       "28    000858.SZ  20180813  65.25  65.25  63.10  64.41  66.05 -1.64 -2.4830   \n",
       "29    000858.SZ  20180810  66.26  67.19  65.34  66.05  66.36 -0.31 -0.4671   \n",
       "...         ...       ...    ...    ...    ...    ...    ...   ...     ...   \n",
       "3791  000858.SZ  20030221  12.11  12.11  11.81  11.83  12.09 -0.26 -2.1500   \n",
       "3792  000858.SZ  20030220  12.13  12.25  12.06  12.09  12.10 -0.01 -0.0800   \n",
       "3793  000858.SZ  20030219  12.00  12.12  11.95  12.10  12.00  0.10  0.8300   \n",
       "3794  000858.SZ  20030218  12.09  12.11  11.96  12.00  12.07 -0.07 -0.5800   \n",
       "3795  000858.SZ  20030217  12.20  12.25  12.03  12.07  12.22 -0.15 -1.2300   \n",
       "3796  000858.SZ  20030214  12.25  12.35  12.10  12.22  12.27 -0.05 -0.4100   \n",
       "3797  000858.SZ  20030213  12.33  12.48  12.16  12.27  12.29 -0.02 -0.1600   \n",
       "3798  000858.SZ  20030212  12.06  12.32  11.88  12.29  12.05  0.24  1.9900   \n",
       "3799  000858.SZ  20030211  11.98  12.08  11.91  12.05  11.98  0.07  0.5800   \n",
       "3800  000858.SZ  20030210  12.26  12.26  11.97  11.98  12.26 -0.28 -2.2800   \n",
       "3801  000858.SZ  20030129  12.29  12.30  12.20  12.26  12.30 -0.04 -0.3300   \n",
       "3802  000858.SZ  20030128  12.28  12.44  12.19  12.30  12.24  0.06  0.4900   \n",
       "3803  000858.SZ  20030127  12.10  12.33  12.03  12.24  12.13  0.11  0.9100   \n",
       "3804  000858.SZ  20030124  12.10  12.20  11.81  12.13  12.05  0.08  0.6600   \n",
       "3805  000858.SZ  20030123  12.06  12.29  11.90  12.05  12.09 -0.04 -0.3300   \n",
       "3806  000858.SZ  20030122  12.15  12.15  11.99  12.09  12.10 -0.01 -0.0800   \n",
       "3807  000858.SZ  20030121  12.04  12.48  12.04  12.10  12.00  0.10  0.8300   \n",
       "3808  000858.SZ  20030120  12.16  12.17  11.92  12.00  12.18 -0.18 -1.4800   \n",
       "3809  000858.SZ  20030117  12.20  12.33  12.00  12.18  12.18  0.00  0.0000   \n",
       "3810  000858.SZ  20030116  11.90  12.32  11.90  12.18  11.97  0.21  1.7500   \n",
       "3811  000858.SZ  20030115  12.10  12.40  11.82  11.97  12.06 -0.09 -0.7500   \n",
       "3812  000858.SZ  20030114  11.65  12.60  11.60  12.06  11.63  0.43  3.7000   \n",
       "3813  000858.SZ  20030113  11.50  11.70  11.49  11.63  11.50  0.13  1.1300   \n",
       "3814  000858.SZ  20030110  11.56  11.90  11.48  11.50  11.55 -0.05 -0.4300   \n",
       "3815  000858.SZ  20030109  11.40  11.65  11.31  11.55  11.35  0.20  1.7600   \n",
       "3816  000858.SZ  20030108  11.12  11.37  11.10  11.35  11.12  0.23  2.0700   \n",
       "3817  000858.SZ  20030107  11.10  11.28  11.10  11.12  11.23 -0.11 -0.9800   \n",
       "3818  000858.SZ  20030106  11.18  11.28  11.00  11.23  11.18  0.05  0.4500   \n",
       "3819  000858.SZ  20030103  11.14  11.30  11.11  11.18  11.15  0.03  0.2700   \n",
       "3820  000858.SZ  20030102  11.45  11.46  11.10  11.15  11.59 -0.44 -3.8000   \n",
       "\n",
       "         成交量（手）       成交额（千元）  \n",
       "0     164165.71  1.056728e+06  \n",
       "1     411364.31  2.653606e+06  \n",
       "2     263861.24  1.647394e+06  \n",
       "3     235508.59  1.458776e+06  \n",
       "4     294960.29  1.800648e+06  \n",
       "5     206865.36  1.232442e+06  \n",
       "6     191607.79  1.150745e+06  \n",
       "7     202919.36  1.235002e+06  \n",
       "8     195919.16  1.179507e+06  \n",
       "9     222726.04  1.347995e+06  \n",
       "10    319221.95  1.924317e+06  \n",
       "11    217130.48  1.342663e+06  \n",
       "12    194838.65  1.215148e+06  \n",
       "13    208324.53  1.283847e+06  \n",
       "14    244560.55  1.517434e+06  \n",
       "15    189692.37  1.209291e+06  \n",
       "16    242285.64  1.543979e+06  \n",
       "17    390976.78  2.527106e+06  \n",
       "18    340401.26  2.198875e+06  \n",
       "19    184769.28  1.163742e+06  \n",
       "20    178918.10  1.147044e+06  \n",
       "21    147732.68  9.425367e+05  \n",
       "22    355392.12  2.262788e+06  \n",
       "23    291249.79  1.771847e+06  \n",
       "24    259935.42  1.592610e+06  \n",
       "25    308055.73  1.913090e+06  \n",
       "26    207112.86  1.320143e+06  \n",
       "27    294337.38  1.910065e+06  \n",
       "28    365521.37  2.343184e+06  \n",
       "29    212833.69  1.409831e+06  \n",
       "...         ...           ...  \n",
       "3791   10566.07  1.259167e+04  \n",
       "3792    8227.71  9.994754e+03  \n",
       "3793    5254.74  6.311557e+03  \n",
       "3794    7045.02  8.460368e+03  \n",
       "3795    8003.21  9.705864e+03  \n",
       "3796   20132.95  2.468112e+04  \n",
       "3797   30253.02  3.736721e+04  \n",
       "3798   33037.22  4.022414e+04  \n",
       "3799    5186.71  6.223894e+03  \n",
       "3800    9506.80  1.142041e+04  \n",
       "3801   14489.85  1.775154e+04  \n",
       "3802   33228.64  4.097170e+04  \n",
       "3803   43647.70  5.336066e+04  \n",
       "3804   18595.01  2.237859e+04  \n",
       "3805   25559.98  3.096278e+04  \n",
       "3806   11679.34  1.405617e+04  \n",
       "3807   45348.76  5.565144e+04  \n",
       "3808   12945.11  1.552684e+04  \n",
       "3809   33821.31  4.131540e+04  \n",
       "3810   56323.76  6.855338e+04  \n",
       "3811   67301.59  8.207773e+04  \n",
       "3812   99717.45  1.206554e+05  \n",
       "3813   12314.71  1.430737e+04  \n",
       "3814   24919.76  2.921490e+04  \n",
       "3815   16065.15  1.852814e+04  \n",
       "3816    3722.07  4.183312e+03  \n",
       "3817    3861.13  4.303665e+03  \n",
       "3818    4205.45  4.692610e+03  \n",
       "3819    4821.27  5.379806e+03  \n",
       "3820    6501.25  7.293120e+03  \n",
       "\n",
       "[3821 rows x 11 columns]"
      ]
     },
     "execution_count": 57,
     "metadata": {},
     "output_type": "execute_result"
    }
   ],
   "source": [
    "# 读取历史股票数据\n",
    "data_path = open(r'C:\\Users\\admin\\Desktop\\五粮液股票数据.csv')\n",
    "shares_info = pd.read_csv(data_path)\n",
    "shares_info"
   ]
  },
  {
   "cell_type": "code",
   "execution_count": 58,
   "metadata": {},
   "outputs": [
    {
     "data": {
      "text/html": [
       "<div>\n",
       "<style scoped>\n",
       "    .dataframe tbody tr th:only-of-type {\n",
       "        vertical-align: middle;\n",
       "    }\n",
       "\n",
       "    .dataframe tbody tr th {\n",
       "        vertical-align: top;\n",
       "    }\n",
       "\n",
       "    .dataframe thead th {\n",
       "        text-align: right;\n",
       "    }\n",
       "</style>\n",
       "<table border=\"1\" class=\"dataframe\">\n",
       "  <thead>\n",
       "    <tr style=\"text-align: right;\">\n",
       "      <th></th>\n",
       "      <th>股票代码</th>\n",
       "      <th>交易日期</th>\n",
       "      <th>开盘价</th>\n",
       "      <th>最高价</th>\n",
       "      <th>最低价</th>\n",
       "      <th>收盘价</th>\n",
       "      <th>昨收价</th>\n",
       "      <th>涨跌额</th>\n",
       "      <th>涨跌幅</th>\n",
       "      <th>成交量（手）</th>\n",
       "      <th>成交额（千元）</th>\n",
       "    </tr>\n",
       "  </thead>\n",
       "  <tbody>\n",
       "    <tr>\n",
       "      <th>2018-09-20</th>\n",
       "      <td>000858.SZ</td>\n",
       "      <td>20180920</td>\n",
       "      <td>64.40</td>\n",
       "      <td>64.85</td>\n",
       "      <td>64.03</td>\n",
       "      <td>64.39</td>\n",
       "      <td>64.44</td>\n",
       "      <td>-0.05</td>\n",
       "      <td>-0.0776</td>\n",
       "      <td>164165.71</td>\n",
       "      <td>1.056728e+06</td>\n",
       "    </tr>\n",
       "    <tr>\n",
       "      <th>2018-09-19</th>\n",
       "      <td>000858.SZ</td>\n",
       "      <td>20180919</td>\n",
       "      <td>62.99</td>\n",
       "      <td>65.53</td>\n",
       "      <td>62.90</td>\n",
       "      <td>64.44</td>\n",
       "      <td>63.21</td>\n",
       "      <td>1.23</td>\n",
       "      <td>1.9459</td>\n",
       "      <td>411364.31</td>\n",
       "      <td>2.653606e+06</td>\n",
       "    </tr>\n",
       "    <tr>\n",
       "      <th>2018-09-18</th>\n",
       "      <td>000858.SZ</td>\n",
       "      <td>20180918</td>\n",
       "      <td>61.62</td>\n",
       "      <td>63.60</td>\n",
       "      <td>61.01</td>\n",
       "      <td>63.21</td>\n",
       "      <td>61.86</td>\n",
       "      <td>1.35</td>\n",
       "      <td>2.1823</td>\n",
       "      <td>263861.24</td>\n",
       "      <td>1.647394e+06</td>\n",
       "    </tr>\n",
       "    <tr>\n",
       "      <th>2018-09-17</th>\n",
       "      <td>000858.SZ</td>\n",
       "      <td>20180917</td>\n",
       "      <td>61.40</td>\n",
       "      <td>62.56</td>\n",
       "      <td>61.03</td>\n",
       "      <td>61.86</td>\n",
       "      <td>61.53</td>\n",
       "      <td>0.33</td>\n",
       "      <td>0.5363</td>\n",
       "      <td>235508.59</td>\n",
       "      <td>1.458776e+06</td>\n",
       "    </tr>\n",
       "    <tr>\n",
       "      <th>2018-09-14</th>\n",
       "      <td>000858.SZ</td>\n",
       "      <td>20180914</td>\n",
       "      <td>60.45</td>\n",
       "      <td>62.16</td>\n",
       "      <td>59.70</td>\n",
       "      <td>61.53</td>\n",
       "      <td>59.98</td>\n",
       "      <td>1.55</td>\n",
       "      <td>2.5842</td>\n",
       "      <td>294960.29</td>\n",
       "      <td>1.800648e+06</td>\n",
       "    </tr>\n",
       "    <tr>\n",
       "      <th>2018-09-13</th>\n",
       "      <td>000858.SZ</td>\n",
       "      <td>20180913</td>\n",
       "      <td>60.39</td>\n",
       "      <td>60.65</td>\n",
       "      <td>58.58</td>\n",
       "      <td>59.98</td>\n",
       "      <td>59.65</td>\n",
       "      <td>0.33</td>\n",
       "      <td>0.5532</td>\n",
       "      <td>206865.36</td>\n",
       "      <td>1.232442e+06</td>\n",
       "    </tr>\n",
       "    <tr>\n",
       "      <th>2018-09-12</th>\n",
       "      <td>000858.SZ</td>\n",
       "      <td>20180912</td>\n",
       "      <td>61.00</td>\n",
       "      <td>61.00</td>\n",
       "      <td>59.59</td>\n",
       "      <td>59.65</td>\n",
       "      <td>61.00</td>\n",
       "      <td>-1.35</td>\n",
       "      <td>-2.2131</td>\n",
       "      <td>191607.79</td>\n",
       "      <td>1.150745e+06</td>\n",
       "    </tr>\n",
       "    <tr>\n",
       "      <th>2018-09-11</th>\n",
       "      <td>000858.SZ</td>\n",
       "      <td>20180911</td>\n",
       "      <td>60.38</td>\n",
       "      <td>61.35</td>\n",
       "      <td>60.20</td>\n",
       "      <td>61.00</td>\n",
       "      <td>60.38</td>\n",
       "      <td>0.62</td>\n",
       "      <td>1.0268</td>\n",
       "      <td>202919.36</td>\n",
       "      <td>1.235002e+06</td>\n",
       "    </tr>\n",
       "    <tr>\n",
       "      <th>2018-09-10</th>\n",
       "      <td>000858.SZ</td>\n",
       "      <td>20180910</td>\n",
       "      <td>60.92</td>\n",
       "      <td>60.96</td>\n",
       "      <td>59.28</td>\n",
       "      <td>60.38</td>\n",
       "      <td>60.77</td>\n",
       "      <td>-0.39</td>\n",
       "      <td>-0.6418</td>\n",
       "      <td>195919.16</td>\n",
       "      <td>1.179507e+06</td>\n",
       "    </tr>\n",
       "    <tr>\n",
       "      <th>2018-09-07</th>\n",
       "      <td>000858.SZ</td>\n",
       "      <td>20180907</td>\n",
       "      <td>60.30</td>\n",
       "      <td>61.15</td>\n",
       "      <td>59.80</td>\n",
       "      <td>60.77</td>\n",
       "      <td>59.71</td>\n",
       "      <td>1.06</td>\n",
       "      <td>1.7752</td>\n",
       "      <td>222726.04</td>\n",
       "      <td>1.347995e+06</td>\n",
       "    </tr>\n",
       "    <tr>\n",
       "      <th>2018-09-06</th>\n",
       "      <td>000858.SZ</td>\n",
       "      <td>20180906</td>\n",
       "      <td>60.50</td>\n",
       "      <td>61.64</td>\n",
       "      <td>59.18</td>\n",
       "      <td>59.71</td>\n",
       "      <td>60.90</td>\n",
       "      <td>-1.19</td>\n",
       "      <td>-1.9540</td>\n",
       "      <td>319221.95</td>\n",
       "      <td>1.924317e+06</td>\n",
       "    </tr>\n",
       "    <tr>\n",
       "      <th>2018-09-05</th>\n",
       "      <td>000858.SZ</td>\n",
       "      <td>20180905</td>\n",
       "      <td>62.75</td>\n",
       "      <td>62.75</td>\n",
       "      <td>60.80</td>\n",
       "      <td>60.90</td>\n",
       "      <td>62.77</td>\n",
       "      <td>-1.87</td>\n",
       "      <td>-2.9791</td>\n",
       "      <td>217130.48</td>\n",
       "      <td>1.342663e+06</td>\n",
       "    </tr>\n",
       "    <tr>\n",
       "      <th>2018-09-04</th>\n",
       "      <td>000858.SZ</td>\n",
       "      <td>20180904</td>\n",
       "      <td>62.27</td>\n",
       "      <td>62.96</td>\n",
       "      <td>61.60</td>\n",
       "      <td>62.77</td>\n",
       "      <td>61.97</td>\n",
       "      <td>0.80</td>\n",
       "      <td>1.2909</td>\n",
       "      <td>194838.65</td>\n",
       "      <td>1.215148e+06</td>\n",
       "    </tr>\n",
       "    <tr>\n",
       "      <th>2018-09-03</th>\n",
       "      <td>000858.SZ</td>\n",
       "      <td>20180903</td>\n",
       "      <td>61.10</td>\n",
       "      <td>62.17</td>\n",
       "      <td>61.09</td>\n",
       "      <td>61.97</td>\n",
       "      <td>61.90</td>\n",
       "      <td>0.07</td>\n",
       "      <td>0.1131</td>\n",
       "      <td>208324.53</td>\n",
       "      <td>1.283847e+06</td>\n",
       "    </tr>\n",
       "    <tr>\n",
       "      <th>2018-08-31</th>\n",
       "      <td>000858.SZ</td>\n",
       "      <td>20180831</td>\n",
       "      <td>62.99</td>\n",
       "      <td>62.99</td>\n",
       "      <td>61.63</td>\n",
       "      <td>61.90</td>\n",
       "      <td>63.40</td>\n",
       "      <td>-1.50</td>\n",
       "      <td>-2.3659</td>\n",
       "      <td>244560.55</td>\n",
       "      <td>1.517434e+06</td>\n",
       "    </tr>\n",
       "    <tr>\n",
       "      <th>2018-08-30</th>\n",
       "      <td>000858.SZ</td>\n",
       "      <td>20180830</td>\n",
       "      <td>63.70</td>\n",
       "      <td>64.50</td>\n",
       "      <td>63.12</td>\n",
       "      <td>63.40</td>\n",
       "      <td>63.68</td>\n",
       "      <td>-0.28</td>\n",
       "      <td>-0.4397</td>\n",
       "      <td>189692.37</td>\n",
       "      <td>1.209291e+06</td>\n",
       "    </tr>\n",
       "    <tr>\n",
       "      <th>2018-08-29</th>\n",
       "      <td>000858.SZ</td>\n",
       "      <td>20180829</td>\n",
       "      <td>64.29</td>\n",
       "      <td>64.51</td>\n",
       "      <td>63.34</td>\n",
       "      <td>63.68</td>\n",
       "      <td>64.30</td>\n",
       "      <td>-0.62</td>\n",
       "      <td>-0.9642</td>\n",
       "      <td>242285.64</td>\n",
       "      <td>1.543979e+06</td>\n",
       "    </tr>\n",
       "    <tr>\n",
       "      <th>2018-08-28</th>\n",
       "      <td>000858.SZ</td>\n",
       "      <td>20180828</td>\n",
       "      <td>66.03</td>\n",
       "      <td>66.18</td>\n",
       "      <td>63.97</td>\n",
       "      <td>64.30</td>\n",
       "      <td>65.31</td>\n",
       "      <td>-1.01</td>\n",
       "      <td>-1.5465</td>\n",
       "      <td>390976.78</td>\n",
       "      <td>2.527106e+06</td>\n",
       "    </tr>\n",
       "    <tr>\n",
       "      <th>2018-08-27</th>\n",
       "      <td>000858.SZ</td>\n",
       "      <td>20180827</td>\n",
       "      <td>63.10</td>\n",
       "      <td>65.31</td>\n",
       "      <td>63.10</td>\n",
       "      <td>65.31</td>\n",
       "      <td>62.96</td>\n",
       "      <td>2.35</td>\n",
       "      <td>3.7325</td>\n",
       "      <td>340401.26</td>\n",
       "      <td>2.198875e+06</td>\n",
       "    </tr>\n",
       "    <tr>\n",
       "      <th>2018-08-24</th>\n",
       "      <td>000858.SZ</td>\n",
       "      <td>20180824</td>\n",
       "      <td>63.90</td>\n",
       "      <td>63.90</td>\n",
       "      <td>62.50</td>\n",
       "      <td>62.96</td>\n",
       "      <td>64.15</td>\n",
       "      <td>-1.19</td>\n",
       "      <td>-1.8550</td>\n",
       "      <td>184769.28</td>\n",
       "      <td>1.163742e+06</td>\n",
       "    </tr>\n",
       "    <tr>\n",
       "      <th>2018-08-23</th>\n",
       "      <td>000858.SZ</td>\n",
       "      <td>20180823</td>\n",
       "      <td>63.98</td>\n",
       "      <td>64.83</td>\n",
       "      <td>63.18</td>\n",
       "      <td>64.15</td>\n",
       "      <td>63.69</td>\n",
       "      <td>0.46</td>\n",
       "      <td>0.7222</td>\n",
       "      <td>178918.10</td>\n",
       "      <td>1.147044e+06</td>\n",
       "    </tr>\n",
       "    <tr>\n",
       "      <th>2018-08-22</th>\n",
       "      <td>000858.SZ</td>\n",
       "      <td>20180822</td>\n",
       "      <td>63.99</td>\n",
       "      <td>64.37</td>\n",
       "      <td>63.28</td>\n",
       "      <td>63.69</td>\n",
       "      <td>64.33</td>\n",
       "      <td>-0.64</td>\n",
       "      <td>-0.9949</td>\n",
       "      <td>147732.68</td>\n",
       "      <td>9.425367e+05</td>\n",
       "    </tr>\n",
       "    <tr>\n",
       "      <th>2018-08-21</th>\n",
       "      <td>000858.SZ</td>\n",
       "      <td>20180821</td>\n",
       "      <td>62.05</td>\n",
       "      <td>64.66</td>\n",
       "      <td>61.90</td>\n",
       "      <td>64.33</td>\n",
       "      <td>62.03</td>\n",
       "      <td>2.30</td>\n",
       "      <td>3.7079</td>\n",
       "      <td>355392.12</td>\n",
       "      <td>2.262788e+06</td>\n",
       "    </tr>\n",
       "    <tr>\n",
       "      <th>2018-08-20</th>\n",
       "      <td>000858.SZ</td>\n",
       "      <td>20180820</td>\n",
       "      <td>60.99</td>\n",
       "      <td>62.15</td>\n",
       "      <td>59.58</td>\n",
       "      <td>62.03</td>\n",
       "      <td>60.61</td>\n",
       "      <td>1.42</td>\n",
       "      <td>2.3428</td>\n",
       "      <td>291249.79</td>\n",
       "      <td>1.771847e+06</td>\n",
       "    </tr>\n",
       "    <tr>\n",
       "      <th>2018-08-17</th>\n",
       "      <td>000858.SZ</td>\n",
       "      <td>20180817</td>\n",
       "      <td>61.85</td>\n",
       "      <td>62.30</td>\n",
       "      <td>60.30</td>\n",
       "      <td>60.61</td>\n",
       "      <td>61.15</td>\n",
       "      <td>-0.54</td>\n",
       "      <td>-0.8831</td>\n",
       "      <td>259935.42</td>\n",
       "      <td>1.592610e+06</td>\n",
       "    </tr>\n",
       "    <tr>\n",
       "      <th>2018-08-16</th>\n",
       "      <td>000858.SZ</td>\n",
       "      <td>20180816</td>\n",
       "      <td>62.33</td>\n",
       "      <td>63.41</td>\n",
       "      <td>61.14</td>\n",
       "      <td>61.15</td>\n",
       "      <td>63.33</td>\n",
       "      <td>-2.18</td>\n",
       "      <td>-3.4423</td>\n",
       "      <td>308055.73</td>\n",
       "      <td>1.913090e+06</td>\n",
       "    </tr>\n",
       "    <tr>\n",
       "      <th>2018-08-15</th>\n",
       "      <td>000858.SZ</td>\n",
       "      <td>20180815</td>\n",
       "      <td>65.11</td>\n",
       "      <td>65.11</td>\n",
       "      <td>63.28</td>\n",
       "      <td>63.33</td>\n",
       "      <td>65.10</td>\n",
       "      <td>-1.77</td>\n",
       "      <td>-2.7189</td>\n",
       "      <td>207112.86</td>\n",
       "      <td>1.320143e+06</td>\n",
       "    </tr>\n",
       "    <tr>\n",
       "      <th>2018-08-14</th>\n",
       "      <td>000858.SZ</td>\n",
       "      <td>20180814</td>\n",
       "      <td>64.99</td>\n",
       "      <td>65.92</td>\n",
       "      <td>64.11</td>\n",
       "      <td>65.10</td>\n",
       "      <td>64.41</td>\n",
       "      <td>0.69</td>\n",
       "      <td>1.0713</td>\n",
       "      <td>294337.38</td>\n",
       "      <td>1.910065e+06</td>\n",
       "    </tr>\n",
       "    <tr>\n",
       "      <th>2018-08-13</th>\n",
       "      <td>000858.SZ</td>\n",
       "      <td>20180813</td>\n",
       "      <td>65.25</td>\n",
       "      <td>65.25</td>\n",
       "      <td>63.10</td>\n",
       "      <td>64.41</td>\n",
       "      <td>66.05</td>\n",
       "      <td>-1.64</td>\n",
       "      <td>-2.4830</td>\n",
       "      <td>365521.37</td>\n",
       "      <td>2.343184e+06</td>\n",
       "    </tr>\n",
       "    <tr>\n",
       "      <th>2018-08-10</th>\n",
       "      <td>000858.SZ</td>\n",
       "      <td>20180810</td>\n",
       "      <td>66.26</td>\n",
       "      <td>67.19</td>\n",
       "      <td>65.34</td>\n",
       "      <td>66.05</td>\n",
       "      <td>66.36</td>\n",
       "      <td>-0.31</td>\n",
       "      <td>-0.4671</td>\n",
       "      <td>212833.69</td>\n",
       "      <td>1.409831e+06</td>\n",
       "    </tr>\n",
       "    <tr>\n",
       "      <th>...</th>\n",
       "      <td>...</td>\n",
       "      <td>...</td>\n",
       "      <td>...</td>\n",
       "      <td>...</td>\n",
       "      <td>...</td>\n",
       "      <td>...</td>\n",
       "      <td>...</td>\n",
       "      <td>...</td>\n",
       "      <td>...</td>\n",
       "      <td>...</td>\n",
       "      <td>...</td>\n",
       "    </tr>\n",
       "    <tr>\n",
       "      <th>2003-02-21</th>\n",
       "      <td>000858.SZ</td>\n",
       "      <td>20030221</td>\n",
       "      <td>12.11</td>\n",
       "      <td>12.11</td>\n",
       "      <td>11.81</td>\n",
       "      <td>11.83</td>\n",
       "      <td>12.09</td>\n",
       "      <td>-0.26</td>\n",
       "      <td>-2.1500</td>\n",
       "      <td>10566.07</td>\n",
       "      <td>1.259167e+04</td>\n",
       "    </tr>\n",
       "    <tr>\n",
       "      <th>2003-02-20</th>\n",
       "      <td>000858.SZ</td>\n",
       "      <td>20030220</td>\n",
       "      <td>12.13</td>\n",
       "      <td>12.25</td>\n",
       "      <td>12.06</td>\n",
       "      <td>12.09</td>\n",
       "      <td>12.10</td>\n",
       "      <td>-0.01</td>\n",
       "      <td>-0.0800</td>\n",
       "      <td>8227.71</td>\n",
       "      <td>9.994754e+03</td>\n",
       "    </tr>\n",
       "    <tr>\n",
       "      <th>2003-02-19</th>\n",
       "      <td>000858.SZ</td>\n",
       "      <td>20030219</td>\n",
       "      <td>12.00</td>\n",
       "      <td>12.12</td>\n",
       "      <td>11.95</td>\n",
       "      <td>12.10</td>\n",
       "      <td>12.00</td>\n",
       "      <td>0.10</td>\n",
       "      <td>0.8300</td>\n",
       "      <td>5254.74</td>\n",
       "      <td>6.311557e+03</td>\n",
       "    </tr>\n",
       "    <tr>\n",
       "      <th>2003-02-18</th>\n",
       "      <td>000858.SZ</td>\n",
       "      <td>20030218</td>\n",
       "      <td>12.09</td>\n",
       "      <td>12.11</td>\n",
       "      <td>11.96</td>\n",
       "      <td>12.00</td>\n",
       "      <td>12.07</td>\n",
       "      <td>-0.07</td>\n",
       "      <td>-0.5800</td>\n",
       "      <td>7045.02</td>\n",
       "      <td>8.460368e+03</td>\n",
       "    </tr>\n",
       "    <tr>\n",
       "      <th>2003-02-17</th>\n",
       "      <td>000858.SZ</td>\n",
       "      <td>20030217</td>\n",
       "      <td>12.20</td>\n",
       "      <td>12.25</td>\n",
       "      <td>12.03</td>\n",
       "      <td>12.07</td>\n",
       "      <td>12.22</td>\n",
       "      <td>-0.15</td>\n",
       "      <td>-1.2300</td>\n",
       "      <td>8003.21</td>\n",
       "      <td>9.705864e+03</td>\n",
       "    </tr>\n",
       "    <tr>\n",
       "      <th>2003-02-14</th>\n",
       "      <td>000858.SZ</td>\n",
       "      <td>20030214</td>\n",
       "      <td>12.25</td>\n",
       "      <td>12.35</td>\n",
       "      <td>12.10</td>\n",
       "      <td>12.22</td>\n",
       "      <td>12.27</td>\n",
       "      <td>-0.05</td>\n",
       "      <td>-0.4100</td>\n",
       "      <td>20132.95</td>\n",
       "      <td>2.468112e+04</td>\n",
       "    </tr>\n",
       "    <tr>\n",
       "      <th>2003-02-13</th>\n",
       "      <td>000858.SZ</td>\n",
       "      <td>20030213</td>\n",
       "      <td>12.33</td>\n",
       "      <td>12.48</td>\n",
       "      <td>12.16</td>\n",
       "      <td>12.27</td>\n",
       "      <td>12.29</td>\n",
       "      <td>-0.02</td>\n",
       "      <td>-0.1600</td>\n",
       "      <td>30253.02</td>\n",
       "      <td>3.736721e+04</td>\n",
       "    </tr>\n",
       "    <tr>\n",
       "      <th>2003-02-12</th>\n",
       "      <td>000858.SZ</td>\n",
       "      <td>20030212</td>\n",
       "      <td>12.06</td>\n",
       "      <td>12.32</td>\n",
       "      <td>11.88</td>\n",
       "      <td>12.29</td>\n",
       "      <td>12.05</td>\n",
       "      <td>0.24</td>\n",
       "      <td>1.9900</td>\n",
       "      <td>33037.22</td>\n",
       "      <td>4.022414e+04</td>\n",
       "    </tr>\n",
       "    <tr>\n",
       "      <th>2003-02-11</th>\n",
       "      <td>000858.SZ</td>\n",
       "      <td>20030211</td>\n",
       "      <td>11.98</td>\n",
       "      <td>12.08</td>\n",
       "      <td>11.91</td>\n",
       "      <td>12.05</td>\n",
       "      <td>11.98</td>\n",
       "      <td>0.07</td>\n",
       "      <td>0.5800</td>\n",
       "      <td>5186.71</td>\n",
       "      <td>6.223894e+03</td>\n",
       "    </tr>\n",
       "    <tr>\n",
       "      <th>2003-02-10</th>\n",
       "      <td>000858.SZ</td>\n",
       "      <td>20030210</td>\n",
       "      <td>12.26</td>\n",
       "      <td>12.26</td>\n",
       "      <td>11.97</td>\n",
       "      <td>11.98</td>\n",
       "      <td>12.26</td>\n",
       "      <td>-0.28</td>\n",
       "      <td>-2.2800</td>\n",
       "      <td>9506.80</td>\n",
       "      <td>1.142041e+04</td>\n",
       "    </tr>\n",
       "    <tr>\n",
       "      <th>2003-01-29</th>\n",
       "      <td>000858.SZ</td>\n",
       "      <td>20030129</td>\n",
       "      <td>12.29</td>\n",
       "      <td>12.30</td>\n",
       "      <td>12.20</td>\n",
       "      <td>12.26</td>\n",
       "      <td>12.30</td>\n",
       "      <td>-0.04</td>\n",
       "      <td>-0.3300</td>\n",
       "      <td>14489.85</td>\n",
       "      <td>1.775154e+04</td>\n",
       "    </tr>\n",
       "    <tr>\n",
       "      <th>2003-01-28</th>\n",
       "      <td>000858.SZ</td>\n",
       "      <td>20030128</td>\n",
       "      <td>12.28</td>\n",
       "      <td>12.44</td>\n",
       "      <td>12.19</td>\n",
       "      <td>12.30</td>\n",
       "      <td>12.24</td>\n",
       "      <td>0.06</td>\n",
       "      <td>0.4900</td>\n",
       "      <td>33228.64</td>\n",
       "      <td>4.097170e+04</td>\n",
       "    </tr>\n",
       "    <tr>\n",
       "      <th>2003-01-27</th>\n",
       "      <td>000858.SZ</td>\n",
       "      <td>20030127</td>\n",
       "      <td>12.10</td>\n",
       "      <td>12.33</td>\n",
       "      <td>12.03</td>\n",
       "      <td>12.24</td>\n",
       "      <td>12.13</td>\n",
       "      <td>0.11</td>\n",
       "      <td>0.9100</td>\n",
       "      <td>43647.70</td>\n",
       "      <td>5.336066e+04</td>\n",
       "    </tr>\n",
       "    <tr>\n",
       "      <th>2003-01-24</th>\n",
       "      <td>000858.SZ</td>\n",
       "      <td>20030124</td>\n",
       "      <td>12.10</td>\n",
       "      <td>12.20</td>\n",
       "      <td>11.81</td>\n",
       "      <td>12.13</td>\n",
       "      <td>12.05</td>\n",
       "      <td>0.08</td>\n",
       "      <td>0.6600</td>\n",
       "      <td>18595.01</td>\n",
       "      <td>2.237859e+04</td>\n",
       "    </tr>\n",
       "    <tr>\n",
       "      <th>2003-01-23</th>\n",
       "      <td>000858.SZ</td>\n",
       "      <td>20030123</td>\n",
       "      <td>12.06</td>\n",
       "      <td>12.29</td>\n",
       "      <td>11.90</td>\n",
       "      <td>12.05</td>\n",
       "      <td>12.09</td>\n",
       "      <td>-0.04</td>\n",
       "      <td>-0.3300</td>\n",
       "      <td>25559.98</td>\n",
       "      <td>3.096278e+04</td>\n",
       "    </tr>\n",
       "    <tr>\n",
       "      <th>2003-01-22</th>\n",
       "      <td>000858.SZ</td>\n",
       "      <td>20030122</td>\n",
       "      <td>12.15</td>\n",
       "      <td>12.15</td>\n",
       "      <td>11.99</td>\n",
       "      <td>12.09</td>\n",
       "      <td>12.10</td>\n",
       "      <td>-0.01</td>\n",
       "      <td>-0.0800</td>\n",
       "      <td>11679.34</td>\n",
       "      <td>1.405617e+04</td>\n",
       "    </tr>\n",
       "    <tr>\n",
       "      <th>2003-01-21</th>\n",
       "      <td>000858.SZ</td>\n",
       "      <td>20030121</td>\n",
       "      <td>12.04</td>\n",
       "      <td>12.48</td>\n",
       "      <td>12.04</td>\n",
       "      <td>12.10</td>\n",
       "      <td>12.00</td>\n",
       "      <td>0.10</td>\n",
       "      <td>0.8300</td>\n",
       "      <td>45348.76</td>\n",
       "      <td>5.565144e+04</td>\n",
       "    </tr>\n",
       "    <tr>\n",
       "      <th>2003-01-20</th>\n",
       "      <td>000858.SZ</td>\n",
       "      <td>20030120</td>\n",
       "      <td>12.16</td>\n",
       "      <td>12.17</td>\n",
       "      <td>11.92</td>\n",
       "      <td>12.00</td>\n",
       "      <td>12.18</td>\n",
       "      <td>-0.18</td>\n",
       "      <td>-1.4800</td>\n",
       "      <td>12945.11</td>\n",
       "      <td>1.552684e+04</td>\n",
       "    </tr>\n",
       "    <tr>\n",
       "      <th>2003-01-17</th>\n",
       "      <td>000858.SZ</td>\n",
       "      <td>20030117</td>\n",
       "      <td>12.20</td>\n",
       "      <td>12.33</td>\n",
       "      <td>12.00</td>\n",
       "      <td>12.18</td>\n",
       "      <td>12.18</td>\n",
       "      <td>0.00</td>\n",
       "      <td>0.0000</td>\n",
       "      <td>33821.31</td>\n",
       "      <td>4.131540e+04</td>\n",
       "    </tr>\n",
       "    <tr>\n",
       "      <th>2003-01-16</th>\n",
       "      <td>000858.SZ</td>\n",
       "      <td>20030116</td>\n",
       "      <td>11.90</td>\n",
       "      <td>12.32</td>\n",
       "      <td>11.90</td>\n",
       "      <td>12.18</td>\n",
       "      <td>11.97</td>\n",
       "      <td>0.21</td>\n",
       "      <td>1.7500</td>\n",
       "      <td>56323.76</td>\n",
       "      <td>6.855338e+04</td>\n",
       "    </tr>\n",
       "    <tr>\n",
       "      <th>2003-01-15</th>\n",
       "      <td>000858.SZ</td>\n",
       "      <td>20030115</td>\n",
       "      <td>12.10</td>\n",
       "      <td>12.40</td>\n",
       "      <td>11.82</td>\n",
       "      <td>11.97</td>\n",
       "      <td>12.06</td>\n",
       "      <td>-0.09</td>\n",
       "      <td>-0.7500</td>\n",
       "      <td>67301.59</td>\n",
       "      <td>8.207773e+04</td>\n",
       "    </tr>\n",
       "    <tr>\n",
       "      <th>2003-01-14</th>\n",
       "      <td>000858.SZ</td>\n",
       "      <td>20030114</td>\n",
       "      <td>11.65</td>\n",
       "      <td>12.60</td>\n",
       "      <td>11.60</td>\n",
       "      <td>12.06</td>\n",
       "      <td>11.63</td>\n",
       "      <td>0.43</td>\n",
       "      <td>3.7000</td>\n",
       "      <td>99717.45</td>\n",
       "      <td>1.206554e+05</td>\n",
       "    </tr>\n",
       "    <tr>\n",
       "      <th>2003-01-13</th>\n",
       "      <td>000858.SZ</td>\n",
       "      <td>20030113</td>\n",
       "      <td>11.50</td>\n",
       "      <td>11.70</td>\n",
       "      <td>11.49</td>\n",
       "      <td>11.63</td>\n",
       "      <td>11.50</td>\n",
       "      <td>0.13</td>\n",
       "      <td>1.1300</td>\n",
       "      <td>12314.71</td>\n",
       "      <td>1.430737e+04</td>\n",
       "    </tr>\n",
       "    <tr>\n",
       "      <th>2003-01-10</th>\n",
       "      <td>000858.SZ</td>\n",
       "      <td>20030110</td>\n",
       "      <td>11.56</td>\n",
       "      <td>11.90</td>\n",
       "      <td>11.48</td>\n",
       "      <td>11.50</td>\n",
       "      <td>11.55</td>\n",
       "      <td>-0.05</td>\n",
       "      <td>-0.4300</td>\n",
       "      <td>24919.76</td>\n",
       "      <td>2.921490e+04</td>\n",
       "    </tr>\n",
       "    <tr>\n",
       "      <th>2003-01-09</th>\n",
       "      <td>000858.SZ</td>\n",
       "      <td>20030109</td>\n",
       "      <td>11.40</td>\n",
       "      <td>11.65</td>\n",
       "      <td>11.31</td>\n",
       "      <td>11.55</td>\n",
       "      <td>11.35</td>\n",
       "      <td>0.20</td>\n",
       "      <td>1.7600</td>\n",
       "      <td>16065.15</td>\n",
       "      <td>1.852814e+04</td>\n",
       "    </tr>\n",
       "    <tr>\n",
       "      <th>2003-01-08</th>\n",
       "      <td>000858.SZ</td>\n",
       "      <td>20030108</td>\n",
       "      <td>11.12</td>\n",
       "      <td>11.37</td>\n",
       "      <td>11.10</td>\n",
       "      <td>11.35</td>\n",
       "      <td>11.12</td>\n",
       "      <td>0.23</td>\n",
       "      <td>2.0700</td>\n",
       "      <td>3722.07</td>\n",
       "      <td>4.183312e+03</td>\n",
       "    </tr>\n",
       "    <tr>\n",
       "      <th>2003-01-07</th>\n",
       "      <td>000858.SZ</td>\n",
       "      <td>20030107</td>\n",
       "      <td>11.10</td>\n",
       "      <td>11.28</td>\n",
       "      <td>11.10</td>\n",
       "      <td>11.12</td>\n",
       "      <td>11.23</td>\n",
       "      <td>-0.11</td>\n",
       "      <td>-0.9800</td>\n",
       "      <td>3861.13</td>\n",
       "      <td>4.303665e+03</td>\n",
       "    </tr>\n",
       "    <tr>\n",
       "      <th>2003-01-06</th>\n",
       "      <td>000858.SZ</td>\n",
       "      <td>20030106</td>\n",
       "      <td>11.18</td>\n",
       "      <td>11.28</td>\n",
       "      <td>11.00</td>\n",
       "      <td>11.23</td>\n",
       "      <td>11.18</td>\n",
       "      <td>0.05</td>\n",
       "      <td>0.4500</td>\n",
       "      <td>4205.45</td>\n",
       "      <td>4.692610e+03</td>\n",
       "    </tr>\n",
       "    <tr>\n",
       "      <th>2003-01-03</th>\n",
       "      <td>000858.SZ</td>\n",
       "      <td>20030103</td>\n",
       "      <td>11.14</td>\n",
       "      <td>11.30</td>\n",
       "      <td>11.11</td>\n",
       "      <td>11.18</td>\n",
       "      <td>11.15</td>\n",
       "      <td>0.03</td>\n",
       "      <td>0.2700</td>\n",
       "      <td>4821.27</td>\n",
       "      <td>5.379806e+03</td>\n",
       "    </tr>\n",
       "    <tr>\n",
       "      <th>2003-01-02</th>\n",
       "      <td>000858.SZ</td>\n",
       "      <td>20030102</td>\n",
       "      <td>11.45</td>\n",
       "      <td>11.46</td>\n",
       "      <td>11.10</td>\n",
       "      <td>11.15</td>\n",
       "      <td>11.59</td>\n",
       "      <td>-0.44</td>\n",
       "      <td>-3.8000</td>\n",
       "      <td>6501.25</td>\n",
       "      <td>7.293120e+03</td>\n",
       "    </tr>\n",
       "  </tbody>\n",
       "</table>\n",
       "<p>3821 rows × 11 columns</p>\n",
       "</div>"
      ],
      "text/plain": [
       "                 股票代码      交易日期    开盘价    最高价    最低价    收盘价    昨收价   涨跌额  \\\n",
       "2018-09-20  000858.SZ  20180920  64.40  64.85  64.03  64.39  64.44 -0.05   \n",
       "2018-09-19  000858.SZ  20180919  62.99  65.53  62.90  64.44  63.21  1.23   \n",
       "2018-09-18  000858.SZ  20180918  61.62  63.60  61.01  63.21  61.86  1.35   \n",
       "2018-09-17  000858.SZ  20180917  61.40  62.56  61.03  61.86  61.53  0.33   \n",
       "2018-09-14  000858.SZ  20180914  60.45  62.16  59.70  61.53  59.98  1.55   \n",
       "2018-09-13  000858.SZ  20180913  60.39  60.65  58.58  59.98  59.65  0.33   \n",
       "2018-09-12  000858.SZ  20180912  61.00  61.00  59.59  59.65  61.00 -1.35   \n",
       "2018-09-11  000858.SZ  20180911  60.38  61.35  60.20  61.00  60.38  0.62   \n",
       "2018-09-10  000858.SZ  20180910  60.92  60.96  59.28  60.38  60.77 -0.39   \n",
       "2018-09-07  000858.SZ  20180907  60.30  61.15  59.80  60.77  59.71  1.06   \n",
       "2018-09-06  000858.SZ  20180906  60.50  61.64  59.18  59.71  60.90 -1.19   \n",
       "2018-09-05  000858.SZ  20180905  62.75  62.75  60.80  60.90  62.77 -1.87   \n",
       "2018-09-04  000858.SZ  20180904  62.27  62.96  61.60  62.77  61.97  0.80   \n",
       "2018-09-03  000858.SZ  20180903  61.10  62.17  61.09  61.97  61.90  0.07   \n",
       "2018-08-31  000858.SZ  20180831  62.99  62.99  61.63  61.90  63.40 -1.50   \n",
       "2018-08-30  000858.SZ  20180830  63.70  64.50  63.12  63.40  63.68 -0.28   \n",
       "2018-08-29  000858.SZ  20180829  64.29  64.51  63.34  63.68  64.30 -0.62   \n",
       "2018-08-28  000858.SZ  20180828  66.03  66.18  63.97  64.30  65.31 -1.01   \n",
       "2018-08-27  000858.SZ  20180827  63.10  65.31  63.10  65.31  62.96  2.35   \n",
       "2018-08-24  000858.SZ  20180824  63.90  63.90  62.50  62.96  64.15 -1.19   \n",
       "2018-08-23  000858.SZ  20180823  63.98  64.83  63.18  64.15  63.69  0.46   \n",
       "2018-08-22  000858.SZ  20180822  63.99  64.37  63.28  63.69  64.33 -0.64   \n",
       "2018-08-21  000858.SZ  20180821  62.05  64.66  61.90  64.33  62.03  2.30   \n",
       "2018-08-20  000858.SZ  20180820  60.99  62.15  59.58  62.03  60.61  1.42   \n",
       "2018-08-17  000858.SZ  20180817  61.85  62.30  60.30  60.61  61.15 -0.54   \n",
       "2018-08-16  000858.SZ  20180816  62.33  63.41  61.14  61.15  63.33 -2.18   \n",
       "2018-08-15  000858.SZ  20180815  65.11  65.11  63.28  63.33  65.10 -1.77   \n",
       "2018-08-14  000858.SZ  20180814  64.99  65.92  64.11  65.10  64.41  0.69   \n",
       "2018-08-13  000858.SZ  20180813  65.25  65.25  63.10  64.41  66.05 -1.64   \n",
       "2018-08-10  000858.SZ  20180810  66.26  67.19  65.34  66.05  66.36 -0.31   \n",
       "...               ...       ...    ...    ...    ...    ...    ...   ...   \n",
       "2003-02-21  000858.SZ  20030221  12.11  12.11  11.81  11.83  12.09 -0.26   \n",
       "2003-02-20  000858.SZ  20030220  12.13  12.25  12.06  12.09  12.10 -0.01   \n",
       "2003-02-19  000858.SZ  20030219  12.00  12.12  11.95  12.10  12.00  0.10   \n",
       "2003-02-18  000858.SZ  20030218  12.09  12.11  11.96  12.00  12.07 -0.07   \n",
       "2003-02-17  000858.SZ  20030217  12.20  12.25  12.03  12.07  12.22 -0.15   \n",
       "2003-02-14  000858.SZ  20030214  12.25  12.35  12.10  12.22  12.27 -0.05   \n",
       "2003-02-13  000858.SZ  20030213  12.33  12.48  12.16  12.27  12.29 -0.02   \n",
       "2003-02-12  000858.SZ  20030212  12.06  12.32  11.88  12.29  12.05  0.24   \n",
       "2003-02-11  000858.SZ  20030211  11.98  12.08  11.91  12.05  11.98  0.07   \n",
       "2003-02-10  000858.SZ  20030210  12.26  12.26  11.97  11.98  12.26 -0.28   \n",
       "2003-01-29  000858.SZ  20030129  12.29  12.30  12.20  12.26  12.30 -0.04   \n",
       "2003-01-28  000858.SZ  20030128  12.28  12.44  12.19  12.30  12.24  0.06   \n",
       "2003-01-27  000858.SZ  20030127  12.10  12.33  12.03  12.24  12.13  0.11   \n",
       "2003-01-24  000858.SZ  20030124  12.10  12.20  11.81  12.13  12.05  0.08   \n",
       "2003-01-23  000858.SZ  20030123  12.06  12.29  11.90  12.05  12.09 -0.04   \n",
       "2003-01-22  000858.SZ  20030122  12.15  12.15  11.99  12.09  12.10 -0.01   \n",
       "2003-01-21  000858.SZ  20030121  12.04  12.48  12.04  12.10  12.00  0.10   \n",
       "2003-01-20  000858.SZ  20030120  12.16  12.17  11.92  12.00  12.18 -0.18   \n",
       "2003-01-17  000858.SZ  20030117  12.20  12.33  12.00  12.18  12.18  0.00   \n",
       "2003-01-16  000858.SZ  20030116  11.90  12.32  11.90  12.18  11.97  0.21   \n",
       "2003-01-15  000858.SZ  20030115  12.10  12.40  11.82  11.97  12.06 -0.09   \n",
       "2003-01-14  000858.SZ  20030114  11.65  12.60  11.60  12.06  11.63  0.43   \n",
       "2003-01-13  000858.SZ  20030113  11.50  11.70  11.49  11.63  11.50  0.13   \n",
       "2003-01-10  000858.SZ  20030110  11.56  11.90  11.48  11.50  11.55 -0.05   \n",
       "2003-01-09  000858.SZ  20030109  11.40  11.65  11.31  11.55  11.35  0.20   \n",
       "2003-01-08  000858.SZ  20030108  11.12  11.37  11.10  11.35  11.12  0.23   \n",
       "2003-01-07  000858.SZ  20030107  11.10  11.28  11.10  11.12  11.23 -0.11   \n",
       "2003-01-06  000858.SZ  20030106  11.18  11.28  11.00  11.23  11.18  0.05   \n",
       "2003-01-03  000858.SZ  20030103  11.14  11.30  11.11  11.18  11.15  0.03   \n",
       "2003-01-02  000858.SZ  20030102  11.45  11.46  11.10  11.15  11.59 -0.44   \n",
       "\n",
       "               涨跌幅     成交量（手）       成交额（千元）  \n",
       "2018-09-20 -0.0776  164165.71  1.056728e+06  \n",
       "2018-09-19  1.9459  411364.31  2.653606e+06  \n",
       "2018-09-18  2.1823  263861.24  1.647394e+06  \n",
       "2018-09-17  0.5363  235508.59  1.458776e+06  \n",
       "2018-09-14  2.5842  294960.29  1.800648e+06  \n",
       "2018-09-13  0.5532  206865.36  1.232442e+06  \n",
       "2018-09-12 -2.2131  191607.79  1.150745e+06  \n",
       "2018-09-11  1.0268  202919.36  1.235002e+06  \n",
       "2018-09-10 -0.6418  195919.16  1.179507e+06  \n",
       "2018-09-07  1.7752  222726.04  1.347995e+06  \n",
       "2018-09-06 -1.9540  319221.95  1.924317e+06  \n",
       "2018-09-05 -2.9791  217130.48  1.342663e+06  \n",
       "2018-09-04  1.2909  194838.65  1.215148e+06  \n",
       "2018-09-03  0.1131  208324.53  1.283847e+06  \n",
       "2018-08-31 -2.3659  244560.55  1.517434e+06  \n",
       "2018-08-30 -0.4397  189692.37  1.209291e+06  \n",
       "2018-08-29 -0.9642  242285.64  1.543979e+06  \n",
       "2018-08-28 -1.5465  390976.78  2.527106e+06  \n",
       "2018-08-27  3.7325  340401.26  2.198875e+06  \n",
       "2018-08-24 -1.8550  184769.28  1.163742e+06  \n",
       "2018-08-23  0.7222  178918.10  1.147044e+06  \n",
       "2018-08-22 -0.9949  147732.68  9.425367e+05  \n",
       "2018-08-21  3.7079  355392.12  2.262788e+06  \n",
       "2018-08-20  2.3428  291249.79  1.771847e+06  \n",
       "2018-08-17 -0.8831  259935.42  1.592610e+06  \n",
       "2018-08-16 -3.4423  308055.73  1.913090e+06  \n",
       "2018-08-15 -2.7189  207112.86  1.320143e+06  \n",
       "2018-08-14  1.0713  294337.38  1.910065e+06  \n",
       "2018-08-13 -2.4830  365521.37  2.343184e+06  \n",
       "2018-08-10 -0.4671  212833.69  1.409831e+06  \n",
       "...            ...        ...           ...  \n",
       "2003-02-21 -2.1500   10566.07  1.259167e+04  \n",
       "2003-02-20 -0.0800    8227.71  9.994754e+03  \n",
       "2003-02-19  0.8300    5254.74  6.311557e+03  \n",
       "2003-02-18 -0.5800    7045.02  8.460368e+03  \n",
       "2003-02-17 -1.2300    8003.21  9.705864e+03  \n",
       "2003-02-14 -0.4100   20132.95  2.468112e+04  \n",
       "2003-02-13 -0.1600   30253.02  3.736721e+04  \n",
       "2003-02-12  1.9900   33037.22  4.022414e+04  \n",
       "2003-02-11  0.5800    5186.71  6.223894e+03  \n",
       "2003-02-10 -2.2800    9506.80  1.142041e+04  \n",
       "2003-01-29 -0.3300   14489.85  1.775154e+04  \n",
       "2003-01-28  0.4900   33228.64  4.097170e+04  \n",
       "2003-01-27  0.9100   43647.70  5.336066e+04  \n",
       "2003-01-24  0.6600   18595.01  2.237859e+04  \n",
       "2003-01-23 -0.3300   25559.98  3.096278e+04  \n",
       "2003-01-22 -0.0800   11679.34  1.405617e+04  \n",
       "2003-01-21  0.8300   45348.76  5.565144e+04  \n",
       "2003-01-20 -1.4800   12945.11  1.552684e+04  \n",
       "2003-01-17  0.0000   33821.31  4.131540e+04  \n",
       "2003-01-16  1.7500   56323.76  6.855338e+04  \n",
       "2003-01-15 -0.7500   67301.59  8.207773e+04  \n",
       "2003-01-14  3.7000   99717.45  1.206554e+05  \n",
       "2003-01-13  1.1300   12314.71  1.430737e+04  \n",
       "2003-01-10 -0.4300   24919.76  2.921490e+04  \n",
       "2003-01-09  1.7600   16065.15  1.852814e+04  \n",
       "2003-01-08  2.0700    3722.07  4.183312e+03  \n",
       "2003-01-07 -0.9800    3861.13  4.303665e+03  \n",
       "2003-01-06  0.4500    4205.45  4.692610e+03  \n",
       "2003-01-03  0.2700    4821.27  5.379806e+03  \n",
       "2003-01-02 -3.8000    6501.25  7.293120e+03  \n",
       "\n",
       "[3821 rows x 11 columns]"
      ]
     },
     "execution_count": 58,
     "metadata": {},
     "output_type": "execute_result"
    }
   ],
   "source": [
    "# 将“交易日期”一列设置为行索引\n",
    "dates = pd.to_datetime(shares_info['交易日期'].values,\n",
    "                       format='%Y%m%d')\n",
    "shares_info = shares_info.set_index(dates)\n",
    "shares_info"
   ]
  },
  {
   "cell_type": "markdown",
   "metadata": {},
   "source": []
  },
  {
   "cell_type": "code",
   "execution_count": 59,
   "metadata": {},
   "outputs": [
    {
     "data": {
      "image/png": "[encoded data removed]",
      "text/plain": [
       "<Figure size 432x288 with 1 Axes>"
      ]
     },
     "metadata": {},
     "output_type": "display_data"
    }
   ],
   "source": [
    "plt.plot(shares_info['收盘价'])\n",
    "plt.title('股票每日收盘价')\n",
    "plt.show()"
   ]
  },
  {
   "cell_type": "code",
   "execution_count": 60,
   "metadata": {},
   "outputs": [
    {
     "data": {
      "image/png": "[encoded data removed]",
      "text/plain": [
       "<Figure size 432x288 with 1 Axes>"
      ]
     },
     "metadata": {},
     "output_type": "display_data"
    }
   ],
   "source": [
    "#  按周重采样\n",
    "shares_info_week = shares_info['收盘价'].resample('W-MON').mean()\n",
    "# 训练数据\n",
    "train_data = shares_info_week['2014': '2017']\n",
    "plt.plot(train_data)\n",
    "plt.title('股票周收盘价均值')\n",
    "plt.show()"
   ]
  },
  {
   "cell_type": "code",
   "execution_count": 61,
   "metadata": {},
   "outputs": [
    {
     "data": {
      "image/png": "[encoded data removed]",
      "text/plain": [
       "<Figure size 432x288 with 1 Axes>"
      ]
     },
     "metadata": {},
     "output_type": "display_data"
    }
   ],
   "source": [
    "# 分析ACF系数\n",
    "acf = plot_acf(train_data,lags=20)\n",
    "plt.title('股票指数的ACF')\n",
    "plt.show()"
   ]
  },
  {
   "cell_type": "code",
   "execution_count": 62,
   "metadata": {
    "scrolled": true
   },
   "outputs": [
    {
     "data": {
      "image/png": "[encoded data removed]",
      "text/plain": [
       "<Figure size 432x288 with 1 Axes>"
      ]
     },
     "metadata": {},
     "output_type": "display_data"
    }
   ],
   "source": [
    "# 分析PACF\n",
    "pacf = plot_pacf(train_data,lags=20)\n",
    "plt.title('股票指数的PACF')\n",
    "plt.show()"
   ]
  },
  {
   "cell_type": "code",
   "execution_count": 63,
   "metadata": {
    "scrolled": true
   },
   "outputs": [
    {
     "data": {
      "image/png": "[encoded data removed]",
      "text/plain": [
       "<Figure size 432x288 with 1 Axes>"
      ]
     },
     "metadata": {},
     "output_type": "display_data"
    }
   ],
   "source": [
    "train_diff = train_data.diff()\n",
    "diff=train_diff.dropna()\n",
    "plt.figure()\n",
    "plt.plot(diff)\n",
    "plt.title('一阶差分')\n",
    "plt.show()"
   ]
  },
  {
   "cell_type": "code",
   "execution_count": 64,
   "metadata": {},
   "outputs": [
    {
     "data": {
      "image/png": "[encoded data removed]",
      "text/plain": [
       "<Figure size 432x288 with 1 Axes>"
      ]
     },
     "metadata": {},
     "output_type": "display_data"
    }
   ],
   "source": [
    "acf_diff = plot_acf(diff,lags=20)\n",
    "plt.title('一阶差分的ACF')\n",
    "plt.show()"
   ]
  },
  {
   "cell_type": "code",
   "execution_count": 65,
   "metadata": {},
   "outputs": [
    {
     "data": {
      "image/png": "[encoded data removed]",
      "text/plain": [
       "<Figure size 432x288 with 1 Axes>"
      ]
     },
     "metadata": {},
     "output_type": "display_data"
    }
   ],
   "source": [
    "pacf_diff = plot_pacf(diff,lags=20)\n",
    "plt.title('一阶差分的PACF')\n",
    "plt.show()"
   ]
  },
  {
   "cell_type": "code",
   "execution_count": 66,
   "metadata": {
    "scrolled": true
   },
   "outputs": [
    {
     "data": {
      "text/html": [
       "<table class=\"simpletable\">\n",
       "<caption>ARIMA Model Results</caption>\n",
       "<tr>\n",
       "  <th>Dep. Variable:</th>       <td>D.收盘价</td>      <th>  No. Observations:  </th>    <td>207</td>  \n",
       "</tr>\n",
       "<tr>\n",
       "  <th>Model:</th>          <td>ARIMA(1, 1, 1)</td>  <th>  Log Likelihood     </th> <td>-330.750</td>\n",
       "</tr>\n",
       "<tr>\n",
       "  <th>Method:</th>             <td>css-mle</td>     <th>  S.D. of innovations</th>   <td>1.195</td> \n",
       "</tr>\n",
       "<tr>\n",
       "  <th>Date:</th>          <td>Thu, 25 Oct 2018</td> <th>  AIC                </th>  <td>669.499</td>\n",
       "</tr>\n",
       "<tr>\n",
       "  <th>Time:</th>              <td>09:53:22</td>     <th>  BIC                </th>  <td>682.830</td>\n",
       "</tr>\n",
       "<tr>\n",
       "  <th>Sample:</th>           <td>01-13-2014</td>    <th>  HQIC               </th>  <td>674.890</td>\n",
       "</tr>\n",
       "<tr>\n",
       "  <th></th>                 <td>- 12-25-2017</td>   <th>                     </th>     <td> </td>   \n",
       "</tr>\n",
       "</table>\n",
       "<table class=\"simpletable\">\n",
       "<tr>\n",
       "       <td></td>          <th>coef</th>     <th>std err</th>      <th>z</th>      <th>P>|z|</th>  <th>[0.025</th>    <th>0.975]</th>  \n",
       "</tr>\n",
       "<tr>\n",
       "  <th>const</th>       <td>    0.3228</td> <td>    0.115</td> <td>    2.813</td> <td> 0.005</td> <td>    0.098</td> <td>    0.548</td>\n",
       "</tr>\n",
       "<tr>\n",
       "  <th>ar.L1.D.收盘价</th> <td>    0.0047</td> <td>    0.167</td> <td>    0.028</td> <td> 0.978</td> <td>   -0.323</td> <td>    0.332</td>\n",
       "</tr>\n",
       "<tr>\n",
       "  <th>ma.L1.D.收盘价</th> <td>    0.3762</td> <td>    0.148</td> <td>    2.547</td> <td> 0.012</td> <td>    0.087</td> <td>    0.666</td>\n",
       "</tr>\n",
       "</table>\n",
       "<table class=\"simpletable\">\n",
       "<caption>Roots</caption>\n",
       "<tr>\n",
       "    <td></td>   <th>            Real</th>  <th>         Imaginary</th> <th>         Modulus</th>  <th>        Frequency</th>\n",
       "</tr>\n",
       "<tr>\n",
       "  <th>AR.1</th> <td>         214.6427</td> <td>          +0.0000j</td> <td>         214.6427</td> <td>           0.0000</td>\n",
       "</tr>\n",
       "<tr>\n",
       "  <th>MA.1</th> <td>          -2.6579</td> <td>          +0.0000j</td> <td>           2.6579</td> <td>           0.5000</td>\n",
       "</tr>\n",
       "</table>"
      ],
      "text/plain": [
       "<class 'statsmodels.iolib.summary.Summary'>\n",
       "\"\"\"\n",
       "                             ARIMA Model Results                              \n",
       "==============================================================================\n",
       "Dep. Variable:                  D.收盘价   No. Observations:                  207\n",
       "Model:                 ARIMA(1, 1, 1)   Log Likelihood                -330.750\n",
       "Method:                       css-mle   S.D. of innovations              1.195\n",
       "Date:                Thu, 25 Oct 2018   AIC                            669.499\n",
       "Time:                        09:53:22   BIC                            682.830\n",
       "Sample:                    01-13-2014   HQIC                           674.890\n",
       "                         - 12-25-2017                                         \n",
       "===============================================================================\n",
       "                  coef    std err          z      P>|z|      [0.025      0.975]\n",
       "-------------------------------------------------------------------------------\n",
       "const           0.3228      0.115      2.813      0.005       0.098       0.548\n",
       "ar.L1.D.收盘价     0.0047      0.167      0.028      0.978      -0.323       0.332\n",
       "ma.L1.D.收盘价     0.3762      0.148      2.547      0.012       0.087       0.666\n",
       "                                    Roots                                    \n",
       "=============================================================================\n",
       "                  Real          Imaginary           Modulus         Frequency\n",
       "-----------------------------------------------------------------------------\n",
       "AR.1          214.6427           +0.0000j          214.6427            0.0000\n",
       "MA.1           -2.6579           +0.0000j            2.6579            0.5000\n",
       "-----------------------------------------------------------------------------\n",
       "\"\"\""
      ]
     },
     "execution_count": 66,
     "metadata": {},
     "output_type": "execute_result"
    }
   ],
   "source": [
    "# 创建ARIMA模型\n",
    "model = ARIMA(train_data, order=(1, 1, 1), freq='W-MON')\n",
    "# 拟合模型\n",
    "arima_result = model.fit()\n",
    "# 通过summary()方法输出关于ARIMA模型中的详细参数说明。\n",
    "arima_result.summary()"
   ]
  },
  {
   "cell_type": "code",
   "execution_count": 67,
   "metadata": {
    "scrolled": true
   },
   "outputs": [
    {
     "data": {
      "image/png": "[encoded data removed]",
      "text/plain": [
       "<Figure size 432x288 with 1 Axes>"
      ]
     },
     "metadata": {},
     "output_type": "display_data"
    }
   ],
   "source": [
    "pred_vals = arima_result.predict('2018-01-01','2018-02-26',\n",
    "                                 dynamic=True, typ='levels')\n",
    "stock_forcast = pd.concat([shares_info_week, pred_vals],\n",
    "                          axis=1, \n",
    "                          keys=['original', 'predicted'])\n",
    "plt.figure()\n",
    "plt.plot(stock_forcast)\n",
    "plt.title('真实值vs预测值')\n",
    "plt.show()"
   ]
  },
  {
   "cell_type": "code",
   "execution_count": null,
   "metadata": {},
   "outputs": [],
   "source": []
  }
 ],
 "metadata": {
  "kernelspec": {
   "display_name": "Python 3",
   "language": "python",
   "name": "python3"
  },
  "language_info": {
   "codemirror_mode": {
    "name": "ipython",
    "version": 3
   },
   "file_extension": ".py",
   "mimetype": "text/x-python",
   "name": "python",
   "nbconvert_exporter": "python",
   "pygments_lexer": "ipython3",
   "version": "3.6.5"
  }
 },
 "nbformat": 4,
 "nbformat_minor": 2
}
